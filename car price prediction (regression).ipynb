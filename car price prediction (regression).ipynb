{
 "cells": [
  {
   "cell_type": "markdown",
   "id": "582c4561",
   "metadata": {},
   "source": [
    "# Car Price Prediction Challenge"
   ]
  },
  {
   "cell_type": "markdown",
   "id": "6b1fe27b",
   "metadata": {},
   "source": [
    "## Problem Statement:\n",
    "Car price prediction is a regression problem where the goal is to predict the price of a car based on various \n",
    "features like brand, year, mileage, engine size, fuel type, transmission, and more. \n",
    "This problem is widely used in the automotive and finance industries to help buyers, sellers, and \n",
    "businesses make data-driven decisions.\n",
    "\n",
    "https://www.kaggle.com/datasets/deepcontractor/car-price-prediction-challenge/data"
   ]
  },
  {
   "cell_type": "markdown",
   "id": "f0c67227",
   "metadata": {},
   "source": [
    "## Import libraries"
   ]
  },
  {
   "cell_type": "code",
   "execution_count": 1,
   "id": "1b1b04fd",
   "metadata": {},
   "outputs": [
    {
     "name": "stderr",
     "output_type": "stream",
     "text": [
      "C:\\Users\\shamr\\anaconda3\\lib\\site-packages\\pandas\\core\\arrays\\masked.py:60: UserWarning: Pandas requires version '1.3.6' or newer of 'bottleneck' (version '1.3.5' currently installed).\n",
      "  from pandas.core import (\n"
     ]
    }
   ],
   "source": [
    "import pandas as pd\n",
    "import numpy as np\n",
    "from matplotlib import pyplot as plt\n",
    "from sklearn.compose import ColumnTransformer\n",
    "from sklearn.pipeline import Pipeline\n",
    "from sklearn.preprocessing import StandardScaler, OneHotEncoder, LabelEncoder,OrdinalEncoder \n",
    "from sklearn.model_selection import train_test_split\n",
    "from sklearn.preprocessing import StandardScaler\n",
    "from sklearn.impute import SimpleImputer\n",
    "\n",
    "\n",
    "from sklearn.neighbors import KNeighborsRegressor\n",
    "from sklearn.svm import SVR\n",
    "from sklearn.ensemble import AdaBoostRegressor\n",
    "from sklearn.linear_model import LinearRegression, Ridge\n",
    "from sklearn.ensemble import GradientBoostingRegressor\n",
    "from sklearn.ensemble import RandomForestRegressor\n",
    "from xgboost import XGBRegressor\n",
    "from sklearn.tree import DecisionTreeRegressor\n",
    "from sklearn.ensemble import VotingRegressor, StackingRegressor\n",
    "from sklearn.metrics import mean_squared_error, r2_score\n",
    "from sklearn.utils import shuffle\n",
    "from sklearn.model_selection import RandomizedSearchCV\n",
    "\n",
    "from scipy.stats import pearsonr\n",
    "from scipy.stats import chi2_contingency\n",
    "from scipy.stats import f_oneway\n",
    "\n",
    "from sklearn.linear_model import LinearRegression\n",
    "from sklearn.metrics import mean_absolute_error, mean_squared_error, r2_score"
   ]
  },
  {
   "cell_type": "code",
   "execution_count": 2,
   "id": "b7d9b2de",
   "metadata": {},
   "outputs": [
    {
     "data": {
      "text/html": [
       "<div>\n",
       "<style scoped>\n",
       "    .dataframe tbody tr th:only-of-type {\n",
       "        vertical-align: middle;\n",
       "    }\n",
       "\n",
       "    .dataframe tbody tr th {\n",
       "        vertical-align: top;\n",
       "    }\n",
       "\n",
       "    .dataframe thead th {\n",
       "        text-align: right;\n",
       "    }\n",
       "</style>\n",
       "<table border=\"1\" class=\"dataframe\">\n",
       "  <thead>\n",
       "    <tr style=\"text-align: right;\">\n",
       "      <th></th>\n",
       "      <th>ID</th>\n",
       "      <th>Price</th>\n",
       "      <th>Levy</th>\n",
       "      <th>Manufacturer</th>\n",
       "      <th>Model</th>\n",
       "      <th>Prod. year</th>\n",
       "      <th>Category</th>\n",
       "      <th>Leather interior</th>\n",
       "      <th>Fuel type</th>\n",
       "      <th>Engine volume</th>\n",
       "      <th>Mileage</th>\n",
       "      <th>Cylinders</th>\n",
       "      <th>Gear box type</th>\n",
       "      <th>Drive wheels</th>\n",
       "      <th>Doors</th>\n",
       "      <th>Wheel</th>\n",
       "      <th>Color</th>\n",
       "      <th>Airbags</th>\n",
       "    </tr>\n",
       "  </thead>\n",
       "  <tbody>\n",
       "    <tr>\n",
       "      <th>1096</th>\n",
       "      <td>45776291</td>\n",
       "      <td>90</td>\n",
       "      <td>-</td>\n",
       "      <td>HYUNDAI</td>\n",
       "      <td>Sonata</td>\n",
       "      <td>2013</td>\n",
       "      <td>Sedan</td>\n",
       "      <td>No</td>\n",
       "      <td>Petrol</td>\n",
       "      <td>2.4</td>\n",
       "      <td>100800 km</td>\n",
       "      <td>4</td>\n",
       "      <td>Automatic</td>\n",
       "      <td>Front</td>\n",
       "      <td>04-May</td>\n",
       "      <td>Left wheel</td>\n",
       "      <td>Black</td>\n",
       "      <td>8</td>\n",
       "    </tr>\n",
       "    <tr>\n",
       "      <th>19167</th>\n",
       "      <td>45799423</td>\n",
       "      <td>18817</td>\n",
       "      <td>1995</td>\n",
       "      <td>FORD</td>\n",
       "      <td>Transit</td>\n",
       "      <td>2003</td>\n",
       "      <td>Microbus</td>\n",
       "      <td>No</td>\n",
       "      <td>Diesel</td>\n",
       "      <td>2.4 Turbo</td>\n",
       "      <td>2147483647 km</td>\n",
       "      <td>4</td>\n",
       "      <td>Manual</td>\n",
       "      <td>Front</td>\n",
       "      <td>02-Mar</td>\n",
       "      <td>Left wheel</td>\n",
       "      <td>White</td>\n",
       "      <td>2</td>\n",
       "    </tr>\n",
       "    <tr>\n",
       "      <th>426</th>\n",
       "      <td>45768685</td>\n",
       "      <td>627</td>\n",
       "      <td>586</td>\n",
       "      <td>LEXUS</td>\n",
       "      <td>CT 200h</td>\n",
       "      <td>2012</td>\n",
       "      <td>Hatchback</td>\n",
       "      <td>Yes</td>\n",
       "      <td>Hybrid</td>\n",
       "      <td>1.8</td>\n",
       "      <td>192683 km</td>\n",
       "      <td>4</td>\n",
       "      <td>Automatic</td>\n",
       "      <td>Front</td>\n",
       "      <td>04-May</td>\n",
       "      <td>Left wheel</td>\n",
       "      <td>White</td>\n",
       "      <td>0</td>\n",
       "    </tr>\n",
       "    <tr>\n",
       "      <th>14195</th>\n",
       "      <td>45730312</td>\n",
       "      <td>24123</td>\n",
       "      <td>1099</td>\n",
       "      <td>SSANGYONG</td>\n",
       "      <td>REXTON</td>\n",
       "      <td>2010</td>\n",
       "      <td>Jeep</td>\n",
       "      <td>Yes</td>\n",
       "      <td>Diesel</td>\n",
       "      <td>2.7</td>\n",
       "      <td>113724 km</td>\n",
       "      <td>4</td>\n",
       "      <td>Automatic</td>\n",
       "      <td>Front</td>\n",
       "      <td>04-May</td>\n",
       "      <td>Left wheel</td>\n",
       "      <td>Black</td>\n",
       "      <td>4</td>\n",
       "    </tr>\n",
       "  </tbody>\n",
       "</table>\n",
       "</div>"
      ],
      "text/plain": [
       "             ID  Price  Levy Manufacturer    Model  Prod. year   Category  \\\n",
       "1096   45776291     90     -      HYUNDAI   Sonata        2013      Sedan   \n",
       "19167  45799423  18817  1995         FORD  Transit        2003   Microbus   \n",
       "426    45768685    627   586        LEXUS  CT 200h        2012  Hatchback   \n",
       "14195  45730312  24123  1099    SSANGYONG   REXTON        2010       Jeep   \n",
       "\n",
       "      Leather interior Fuel type Engine volume        Mileage  Cylinders  \\\n",
       "1096                No    Petrol           2.4      100800 km          4   \n",
       "19167               No    Diesel     2.4 Turbo  2147483647 km          4   \n",
       "426                Yes    Hybrid           1.8      192683 km          4   \n",
       "14195              Yes    Diesel           2.7      113724 km          4   \n",
       "\n",
       "      Gear box type Drive wheels   Doors       Wheel  Color  Airbags  \n",
       "1096      Automatic        Front  04-May  Left wheel  Black        8  \n",
       "19167        Manual        Front  02-Mar  Left wheel  White        2  \n",
       "426       Automatic        Front  04-May  Left wheel  White        0  \n",
       "14195     Automatic        Front  04-May  Left wheel  Black        4  "
      ]
     },
     "execution_count": 2,
     "metadata": {},
     "output_type": "execute_result"
    }
   ],
   "source": [
    "data = pd.read_csv('data/car_price_prediction.csv')\n",
    "data.sample(4)"
   ]
  },
  {
   "cell_type": "code",
   "execution_count": 3,
   "id": "25b2a0c0",
   "metadata": {},
   "outputs": [
    {
     "data": {
      "text/plain": [
       "Index(['ID', 'Price', 'Levy', 'Manufacturer', 'Model', 'Prod. year',\n",
       "       'Category', 'Leather interior', 'Fuel type', 'Engine volume', 'Mileage',\n",
       "       'Cylinders', 'Gear box type', 'Drive wheels', 'Doors', 'Wheel', 'Color',\n",
       "       'Airbags'],\n",
       "      dtype='object')"
      ]
     },
     "execution_count": 3,
     "metadata": {},
     "output_type": "execute_result"
    }
   ],
   "source": [
    "data.columns"
   ]
  },
  {
   "cell_type": "markdown",
   "id": "75fa4361",
   "metadata": {},
   "source": [
    "## Remove unwanted columns"
   ]
  },
  {
   "cell_type": "code",
   "execution_count": 4,
   "id": "5bfb936c",
   "metadata": {},
   "outputs": [],
   "source": [
    "data = data.drop(['ID','Doors'],axis=1)"
   ]
  },
  {
   "cell_type": "code",
   "execution_count": 5,
   "id": "1efd291c",
   "metadata": {},
   "outputs": [
    {
     "data": {
      "text/html": [
       "<div>\n",
       "<style scoped>\n",
       "    .dataframe tbody tr th:only-of-type {\n",
       "        vertical-align: middle;\n",
       "    }\n",
       "\n",
       "    .dataframe tbody tr th {\n",
       "        vertical-align: top;\n",
       "    }\n",
       "\n",
       "    .dataframe thead th {\n",
       "        text-align: right;\n",
       "    }\n",
       "</style>\n",
       "<table border=\"1\" class=\"dataframe\">\n",
       "  <thead>\n",
       "    <tr style=\"text-align: right;\">\n",
       "      <th></th>\n",
       "      <th>Price</th>\n",
       "      <th>Levy</th>\n",
       "      <th>Manufacturer</th>\n",
       "      <th>Model</th>\n",
       "      <th>Prod. year</th>\n",
       "      <th>Category</th>\n",
       "      <th>Leather interior</th>\n",
       "      <th>Fuel type</th>\n",
       "      <th>Engine volume</th>\n",
       "      <th>Mileage</th>\n",
       "      <th>Cylinders</th>\n",
       "      <th>Gear box type</th>\n",
       "      <th>Drive wheels</th>\n",
       "      <th>Wheel</th>\n",
       "      <th>Color</th>\n",
       "      <th>Airbags</th>\n",
       "    </tr>\n",
       "  </thead>\n",
       "  <tbody>\n",
       "    <tr>\n",
       "      <th>0</th>\n",
       "      <td>13328</td>\n",
       "      <td>1399</td>\n",
       "      <td>LEXUS</td>\n",
       "      <td>RX 450</td>\n",
       "      <td>2010</td>\n",
       "      <td>Jeep</td>\n",
       "      <td>Yes</td>\n",
       "      <td>Hybrid</td>\n",
       "      <td>3.5</td>\n",
       "      <td>186005 km</td>\n",
       "      <td>6</td>\n",
       "      <td>Automatic</td>\n",
       "      <td>4x4</td>\n",
       "      <td>Left wheel</td>\n",
       "      <td>Silver</td>\n",
       "      <td>12</td>\n",
       "    </tr>\n",
       "    <tr>\n",
       "      <th>1</th>\n",
       "      <td>16621</td>\n",
       "      <td>1018</td>\n",
       "      <td>CHEVROLET</td>\n",
       "      <td>Equinox</td>\n",
       "      <td>2011</td>\n",
       "      <td>Jeep</td>\n",
       "      <td>No</td>\n",
       "      <td>Petrol</td>\n",
       "      <td>3</td>\n",
       "      <td>192000 km</td>\n",
       "      <td>6</td>\n",
       "      <td>Tiptronic</td>\n",
       "      <td>4x4</td>\n",
       "      <td>Left wheel</td>\n",
       "      <td>Black</td>\n",
       "      <td>8</td>\n",
       "    </tr>\n",
       "  </tbody>\n",
       "</table>\n",
       "</div>"
      ],
      "text/plain": [
       "   Price  Levy Manufacturer    Model  Prod. year Category Leather interior  \\\n",
       "0  13328  1399        LEXUS   RX 450        2010     Jeep              Yes   \n",
       "1  16621  1018    CHEVROLET  Equinox        2011     Jeep               No   \n",
       "\n",
       "  Fuel type Engine volume    Mileage  Cylinders Gear box type Drive wheels  \\\n",
       "0    Hybrid           3.5  186005 km          6     Automatic          4x4   \n",
       "1    Petrol             3  192000 km          6     Tiptronic          4x4   \n",
       "\n",
       "        Wheel   Color  Airbags  \n",
       "0  Left wheel  Silver       12  \n",
       "1  Left wheel   Black        8  "
      ]
     },
     "execution_count": 5,
     "metadata": {},
     "output_type": "execute_result"
    }
   ],
   "source": [
    "data.head(2)"
   ]
  },
  {
   "cell_type": "code",
   "execution_count": 6,
   "id": "e9f98451",
   "metadata": {},
   "outputs": [
    {
     "data": {
      "text/plain": [
       "(19237, 16)"
      ]
     },
     "execution_count": 6,
     "metadata": {},
     "output_type": "execute_result"
    }
   ],
   "source": [
    "data.shape"
   ]
  },
  {
   "cell_type": "markdown",
   "id": "2354a9e0",
   "metadata": {},
   "source": [
    "## check null values"
   ]
  },
  {
   "cell_type": "code",
   "execution_count": 7,
   "id": "9603e8c8",
   "metadata": {},
   "outputs": [
    {
     "data": {
      "text/plain": [
       "Price               0\n",
       "Levy                0\n",
       "Manufacturer        0\n",
       "Model               0\n",
       "Prod. year          0\n",
       "Category            0\n",
       "Leather interior    0\n",
       "Fuel type           0\n",
       "Engine volume       0\n",
       "Mileage             0\n",
       "Cylinders           0\n",
       "Gear box type       0\n",
       "Drive wheels        0\n",
       "Wheel               0\n",
       "Color               0\n",
       "Airbags             0\n",
       "dtype: int64"
      ]
     },
     "execution_count": 7,
     "metadata": {},
     "output_type": "execute_result"
    }
   ],
   "source": [
    "data.isnull().sum()"
   ]
  },
  {
   "cell_type": "markdown",
   "id": "19ae7512",
   "metadata": {},
   "source": [
    "## Drop duplicates"
   ]
  },
  {
   "cell_type": "code",
   "execution_count": 8,
   "id": "650c897c",
   "metadata": {},
   "outputs": [
    {
     "data": {
      "text/plain": [
       "3512"
      ]
     },
     "execution_count": 8,
     "metadata": {},
     "output_type": "execute_result"
    }
   ],
   "source": [
    "data.duplicated().sum()"
   ]
  },
  {
   "cell_type": "code",
   "execution_count": 9,
   "id": "1aeff82b",
   "metadata": {},
   "outputs": [],
   "source": [
    "data = data.drop_duplicates()"
   ]
  },
  {
   "cell_type": "code",
   "execution_count": 10,
   "id": "40a5e955",
   "metadata": {},
   "outputs": [
    {
     "data": {
      "text/plain": [
       "(15725, 16)"
      ]
     },
     "execution_count": 10,
     "metadata": {},
     "output_type": "execute_result"
    }
   ],
   "source": [
    "data.shape"
   ]
  },
  {
   "cell_type": "markdown",
   "id": "645e5329",
   "metadata": {},
   "source": [
    "## Descriptive analysis"
   ]
  },
  {
   "cell_type": "code",
   "execution_count": 11,
   "id": "7be8f803",
   "metadata": {},
   "outputs": [
    {
     "name": "stdout",
     "output_type": "stream",
     "text": [
      "<class 'pandas.core.frame.DataFrame'>\n",
      "Index: 15725 entries, 0 to 19236\n",
      "Data columns (total 16 columns):\n",
      " #   Column            Non-Null Count  Dtype \n",
      "---  ------            --------------  ----- \n",
      " 0   Price             15725 non-null  int64 \n",
      " 1   Levy              15725 non-null  object\n",
      " 2   Manufacturer      15725 non-null  object\n",
      " 3   Model             15725 non-null  object\n",
      " 4   Prod. year        15725 non-null  int64 \n",
      " 5   Category          15725 non-null  object\n",
      " 6   Leather interior  15725 non-null  object\n",
      " 7   Fuel type         15725 non-null  object\n",
      " 8   Engine volume     15725 non-null  object\n",
      " 9   Mileage           15725 non-null  object\n",
      " 10  Cylinders         15725 non-null  int64 \n",
      " 11  Gear box type     15725 non-null  object\n",
      " 12  Drive wheels      15725 non-null  object\n",
      " 13  Wheel             15725 non-null  object\n",
      " 14  Color             15725 non-null  object\n",
      " 15  Airbags           15725 non-null  int64 \n",
      "dtypes: int64(4), object(12)\n",
      "memory usage: 2.0+ MB\n"
     ]
    }
   ],
   "source": [
    "data.info()"
   ]
  },
  {
   "cell_type": "code",
   "execution_count": 12,
   "id": "33be0915",
   "metadata": {},
   "outputs": [
    {
     "name": "stdout",
     "output_type": "stream",
     "text": [
      "Numerical features:  ['Price', 'Prod. year', 'Cylinders', 'Airbags']\n",
      "\n",
      "Categorical features:  ['Levy', 'Manufacturer', 'Model', 'Category', 'Leather interior', 'Fuel type', 'Engine volume', 'Mileage', 'Gear box type', 'Drive wheels', 'Wheel', 'Color']\n"
     ]
    }
   ],
   "source": [
    "#organize num and categorical features\n",
    "cat_features=[]\n",
    "num_features=[]\n",
    "for i in data.columns:\n",
    "    if data[i].dtype=='int64':\n",
    "        num_features.append(i)\n",
    "    elif data[i].dtype=='object':\n",
    "        cat_features.append(i)\n",
    "\n",
    "print(\"Numerical features: \",num_features)\n",
    "print()\n",
    "print(\"Categorical features: \",cat_features)"
   ]
  },
  {
   "cell_type": "code",
   "execution_count": 13,
   "id": "2956da47",
   "metadata": {},
   "outputs": [
    {
     "data": {
      "text/plain": [
       "Levy\n",
       "-       5684\n",
       "891      387\n",
       "765      387\n",
       "639      340\n",
       "640      336\n",
       "        ... \n",
       "2177       1\n",
       "5666       1\n",
       "3156       1\n",
       "1719       1\n",
       "1901       1\n",
       "Name: count, Length: 559, dtype: int64"
      ]
     },
     "execution_count": 13,
     "metadata": {},
     "output_type": "execute_result"
    }
   ],
   "source": [
    "data['Levy'].value_counts()"
   ]
  },
  {
   "cell_type": "code",
   "execution_count": 14,
   "id": "d5cba624",
   "metadata": {},
   "outputs": [
    {
     "name": "stdout",
     "output_type": "stream",
     "text": [
      "Levy\n",
      "891.0     387\n",
      "765.0     387\n",
      "639.0     340\n",
      "640.0     336\n",
      "642.0     245\n",
      "         ... \n",
      "2177.0      1\n",
      "5666.0      1\n",
      "3156.0      1\n",
      "1719.0      1\n",
      "1901.0      1\n",
      "Name: count, Length: 558, dtype: int64\n"
     ]
    }
   ],
   "source": [
    "data['Levy'] = data['Levy'].replace('-',0)\n",
    "data['Levy'] = data['Levy'].astype(int)\n",
    "data['Levy'] = data['Levy'].replace(0,np.nan)\n",
    "print(data['Levy'].value_counts())"
   ]
  },
  {
   "cell_type": "code",
   "execution_count": 15,
   "id": "35860390",
   "metadata": {},
   "outputs": [
    {
     "data": {
      "text/plain": [
       "Manufacturer\n",
       "HYUNDAI          3050\n",
       "TOYOTA           2863\n",
       "MERCEDES-BENZ    1451\n",
       "CHEVROLET         968\n",
       "FORD              956\n",
       "                 ... \n",
       "TESLA               1\n",
       "PONTIAC             1\n",
       "SATURN              1\n",
       "ASTON MARTIN        1\n",
       "GREATWALL           1\n",
       "Name: count, Length: 65, dtype: int64"
      ]
     },
     "execution_count": 15,
     "metadata": {},
     "output_type": "execute_result"
    }
   ],
   "source": [
    "data['Manufacturer'].value_counts()"
   ]
  },
  {
   "cell_type": "code",
   "execution_count": 16,
   "id": "8361eea1",
   "metadata": {},
   "outputs": [
    {
     "data": {
      "text/plain": [
       "array(['LEXUS', 'CHEVROLET', 'HONDA', 'FORD', 'HYUNDAI', 'TOYOTA',\n",
       "       'MERCEDES-BENZ', 'OPEL', 'PORSCHE', 'BMW', 'JEEP', 'VOLKSWAGEN',\n",
       "       'AUDI', 'RENAULT', 'NISSAN', 'SUBARU', 'DAEWOO', 'KIA',\n",
       "       'MITSUBISHI', 'SSANGYONG', 'MAZDA', 'GMC', 'FIAT', 'INFINITI',\n",
       "       'ALFA ROMEO', 'SUZUKI', 'ACURA', 'LINCOLN', 'VAZ', 'GAZ',\n",
       "       'CITROEN', 'LAND ROVER', 'MINI', 'DODGE', 'CHRYSLER', 'JAGUAR',\n",
       "       'ISUZU', 'SKODA', 'DAIHATSU', 'BUICK', 'TESLA', 'CADILLAC',\n",
       "       'PEUGEOT', 'BENTLEY', 'VOLVO', 'სხვა', 'HAVAL', 'HUMMER', 'SCION',\n",
       "       'UAZ', 'MERCURY', 'ZAZ', 'ROVER', 'SEAT', 'LANCIA', 'MOSKVICH',\n",
       "       'MASERATI', 'FERRARI', 'SAAB', 'LAMBORGHINI', 'ROLLS-ROYCE',\n",
       "       'PONTIAC', 'SATURN', 'ASTON MARTIN', 'GREATWALL'], dtype=object)"
      ]
     },
     "execution_count": 16,
     "metadata": {},
     "output_type": "execute_result"
    }
   ],
   "source": [
    "data['Manufacturer'].unique()"
   ]
  },
  {
   "cell_type": "code",
   "execution_count": 17,
   "id": "0839777f",
   "metadata": {},
   "outputs": [
    {
     "data": {
      "text/html": [
       "<div>\n",
       "<style scoped>\n",
       "    .dataframe tbody tr th:only-of-type {\n",
       "        vertical-align: middle;\n",
       "    }\n",
       "\n",
       "    .dataframe tbody tr th {\n",
       "        vertical-align: top;\n",
       "    }\n",
       "\n",
       "    .dataframe thead th {\n",
       "        text-align: right;\n",
       "    }\n",
       "</style>\n",
       "<table border=\"1\" class=\"dataframe\">\n",
       "  <thead>\n",
       "    <tr style=\"text-align: right;\">\n",
       "      <th></th>\n",
       "      <th>Price</th>\n",
       "      <th>Levy</th>\n",
       "      <th>Manufacturer</th>\n",
       "      <th>Model</th>\n",
       "      <th>Prod. year</th>\n",
       "      <th>Category</th>\n",
       "      <th>Leather interior</th>\n",
       "      <th>Fuel type</th>\n",
       "      <th>Engine volume</th>\n",
       "      <th>Mileage</th>\n",
       "      <th>Cylinders</th>\n",
       "      <th>Gear box type</th>\n",
       "      <th>Drive wheels</th>\n",
       "      <th>Wheel</th>\n",
       "      <th>Color</th>\n",
       "      <th>Airbags</th>\n",
       "    </tr>\n",
       "  </thead>\n",
       "  <tbody>\n",
       "    <tr>\n",
       "      <th>2358</th>\n",
       "      <td>25089</td>\n",
       "      <td>NaN</td>\n",
       "      <td>სხვა</td>\n",
       "      <td>IVECO DAYLY</td>\n",
       "      <td>2007</td>\n",
       "      <td>Microbus</td>\n",
       "      <td>No</td>\n",
       "      <td>Diesel</td>\n",
       "      <td>2.3 Turbo</td>\n",
       "      <td>328000 km</td>\n",
       "      <td>4</td>\n",
       "      <td>Manual</td>\n",
       "      <td>Rear</td>\n",
       "      <td>Left wheel</td>\n",
       "      <td>White</td>\n",
       "      <td>1</td>\n",
       "    </tr>\n",
       "    <tr>\n",
       "      <th>4792</th>\n",
       "      <td>9408</td>\n",
       "      <td>NaN</td>\n",
       "      <td>სხვა</td>\n",
       "      <td>GONOW</td>\n",
       "      <td>2005</td>\n",
       "      <td>Jeep</td>\n",
       "      <td>Yes</td>\n",
       "      <td>Petrol</td>\n",
       "      <td>2.3</td>\n",
       "      <td>102000 km</td>\n",
       "      <td>4</td>\n",
       "      <td>Manual</td>\n",
       "      <td>Rear</td>\n",
       "      <td>Left wheel</td>\n",
       "      <td>Silver</td>\n",
       "      <td>2</td>\n",
       "    </tr>\n",
       "  </tbody>\n",
       "</table>\n",
       "</div>"
      ],
      "text/plain": [
       "      Price  Levy Manufacturer        Model  Prod. year  Category  \\\n",
       "2358  25089   NaN         სხვა  IVECO DAYLY        2007  Microbus   \n",
       "4792   9408   NaN         სხვა        GONOW        2005      Jeep   \n",
       "\n",
       "     Leather interior Fuel type Engine volume    Mileage  Cylinders  \\\n",
       "2358               No    Diesel     2.3 Turbo  328000 km          4   \n",
       "4792              Yes    Petrol           2.3  102000 km          4   \n",
       "\n",
       "     Gear box type Drive wheels       Wheel   Color  Airbags  \n",
       "2358        Manual         Rear  Left wheel   White        1  \n",
       "4792        Manual         Rear  Left wheel  Silver        2  "
      ]
     },
     "execution_count": 17,
     "metadata": {},
     "output_type": "execute_result"
    }
   ],
   "source": [
    "data[data['Manufacturer']=='სხვა']"
   ]
  },
  {
   "cell_type": "code",
   "execution_count": 18,
   "id": "12557eb8",
   "metadata": {},
   "outputs": [
    {
     "data": {
      "text/plain": [
       "array(['LEXUS', 'CHEVROLET', 'HONDA', 'FORD', 'HYUNDAI', 'TOYOTA',\n",
       "       'MERCEDES-BENZ', 'OPEL', 'PORSCHE', 'BMW', 'JEEP', 'VOLKSWAGEN',\n",
       "       'AUDI', 'RENAULT', 'NISSAN', 'SUBARU', 'DAEWOO', 'KIA',\n",
       "       'MITSUBISHI', 'SSANGYONG', 'MAZDA', 'GMC', 'FIAT', 'INFINITI',\n",
       "       'ALFA ROMEO', 'SUZUKI', 'ACURA', 'LINCOLN', 'VAZ', 'GAZ',\n",
       "       'CITROEN', 'LAND ROVER', 'MINI', 'DODGE', 'CHRYSLER', 'JAGUAR',\n",
       "       'ISUZU', 'SKODA', 'DAIHATSU', 'BUICK', 'TESLA', 'CADILLAC',\n",
       "       'PEUGEOT', 'BENTLEY', 'VOLVO', nan, 'HAVAL', 'HUMMER', 'SCION',\n",
       "       'UAZ', 'MERCURY', 'ZAZ', 'ROVER', 'SEAT', 'LANCIA', 'MOSKVICH',\n",
       "       'MASERATI', 'FERRARI', 'SAAB', 'LAMBORGHINI', 'ROLLS-ROYCE',\n",
       "       'PONTIAC', 'SATURN', 'ASTON MARTIN', 'GREATWALL'], dtype=object)"
      ]
     },
     "execution_count": 18,
     "metadata": {},
     "output_type": "execute_result"
    }
   ],
   "source": [
    "data['Manufacturer'] = data['Manufacturer'].replace('სხვა',np.nan)\n",
    "data['Manufacturer'].unique()"
   ]
  },
  {
   "cell_type": "markdown",
   "id": "b021c3b3",
   "metadata": {},
   "source": [
    "#### Conclusion - Manufacturer has nan values, it will be taken up further"
   ]
  },
  {
   "cell_type": "code",
   "execution_count": 19,
   "id": "89703c00",
   "metadata": {},
   "outputs": [
    {
     "data": {
      "text/plain": [
       "Model\n",
       "Prius                     946\n",
       "Sonata                    821\n",
       "Elantra                   720\n",
       "Camry                     581\n",
       "Santa FE                  486\n",
       "                         ... \n",
       "1500,1600 Schtufenheck      1\n",
       "E 420                       1\n",
       "C 250 luxury                1\n",
       "Passat sport                1\n",
       "Prius C aqua                1\n",
       "Name: count, Length: 1590, dtype: int64"
      ]
     },
     "execution_count": 19,
     "metadata": {},
     "output_type": "execute_result"
    }
   ],
   "source": [
    "data['Model'].value_counts()"
   ]
  },
  {
   "cell_type": "code",
   "execution_count": 20,
   "id": "4485a288",
   "metadata": {},
   "outputs": [
    {
     "data": {
      "text/plain": [
       "array(['Jeep', 'Hatchback', 'Sedan', 'Microbus', 'Goods wagon',\n",
       "       'Universal', 'Coupe', 'Minivan', 'Cabriolet', 'Limousine',\n",
       "       'Pickup'], dtype=object)"
      ]
     },
     "execution_count": 20,
     "metadata": {},
     "output_type": "execute_result"
    }
   ],
   "source": [
    "data['Category'].unique()"
   ]
  },
  {
   "cell_type": "code",
   "execution_count": 21,
   "id": "14858aab",
   "metadata": {},
   "outputs": [
    {
     "data": {
      "text/plain": [
       "array(['Yes', 'No'], dtype=object)"
      ]
     },
     "execution_count": 21,
     "metadata": {},
     "output_type": "execute_result"
    }
   ],
   "source": [
    "data['Leather interior'].unique()"
   ]
  },
  {
   "cell_type": "code",
   "execution_count": 22,
   "id": "19418376",
   "metadata": {},
   "outputs": [
    {
     "data": {
      "text/plain": [
       "array(['Hybrid', 'Petrol', 'Diesel', 'CNG', 'Plug-in Hybrid', 'LPG',\n",
       "       'Hydrogen'], dtype=object)"
      ]
     },
     "execution_count": 22,
     "metadata": {},
     "output_type": "execute_result"
    }
   ],
   "source": [
    "data['Fuel type'].unique()"
   ]
  },
  {
   "cell_type": "code",
   "execution_count": 23,
   "id": "c45dc26e",
   "metadata": {},
   "outputs": [
    {
     "data": {
      "text/plain": [
       "Prod. year\n",
       "2012    1672\n",
       "2014    1582\n",
       "2013    1580\n",
       "2015    1237\n",
       "2016    1215\n",
       "2011    1213\n",
       "2010    1100\n",
       "2017     754\n",
       "2008     566\n",
       "2009     479\n",
       "2007     455\n",
       "2018     421\n",
       "2005     389\n",
       "2003     355\n",
       "2004     349\n",
       "2006     310\n",
       "2002     284\n",
       "2000     276\n",
       "2001     253\n",
       "2019     231\n",
       "1999     205\n",
       "1998     204\n",
       "1997     151\n",
       "1996     109\n",
       "1995     102\n",
       "2020      43\n",
       "1994      41\n",
       "1992      30\n",
       "1993      23\n",
       "1990      18\n",
       "1988      12\n",
       "1991      10\n",
       "1986       6\n",
       "1989       6\n",
       "1987       5\n",
       "1984       5\n",
       "1985       5\n",
       "1953       4\n",
       "1983       3\n",
       "1939       3\n",
       "1978       2\n",
       "1980       2\n",
       "1965       2\n",
       "1977       2\n",
       "1964       2\n",
       "1943       1\n",
       "1976       1\n",
       "1957       1\n",
       "1974       1\n",
       "1968       1\n",
       "1947       1\n",
       "1982       1\n",
       "1981       1\n",
       "1973       1\n",
       "Name: count, dtype: int64"
      ]
     },
     "execution_count": 23,
     "metadata": {},
     "output_type": "execute_result"
    }
   ],
   "source": [
    "data['Prod. year'].value_counts()"
   ]
  },
  {
   "cell_type": "code",
   "execution_count": 24,
   "id": "a93f4f9b",
   "metadata": {},
   "outputs": [
    {
     "data": {
      "text/plain": [
       "Cylinders\n",
       "4     12279\n",
       "6      2429\n",
       "8       605\n",
       "5       165\n",
       "3       107\n",
       "2        42\n",
       "12       38\n",
       "1        37\n",
       "10       12\n",
       "16        5\n",
       "7         4\n",
       "9         1\n",
       "14        1\n",
       "Name: count, dtype: int64"
      ]
     },
     "execution_count": 24,
     "metadata": {},
     "output_type": "execute_result"
    }
   ],
   "source": [
    "data['Cylinders'].value_counts()"
   ]
  },
  {
   "cell_type": "code",
   "execution_count": 25,
   "id": "59726afa",
   "metadata": {},
   "outputs": [
    {
     "data": {
      "text/html": [
       "<div>\n",
       "<style scoped>\n",
       "    .dataframe tbody tr th:only-of-type {\n",
       "        vertical-align: middle;\n",
       "    }\n",
       "\n",
       "    .dataframe tbody tr th {\n",
       "        vertical-align: top;\n",
       "    }\n",
       "\n",
       "    .dataframe thead th {\n",
       "        text-align: right;\n",
       "    }\n",
       "</style>\n",
       "<table border=\"1\" class=\"dataframe\">\n",
       "  <thead>\n",
       "    <tr style=\"text-align: right;\">\n",
       "      <th></th>\n",
       "      <th>Price</th>\n",
       "      <th>Levy</th>\n",
       "      <th>Manufacturer</th>\n",
       "      <th>Model</th>\n",
       "      <th>Category</th>\n",
       "      <th>Leather interior</th>\n",
       "      <th>Fuel type</th>\n",
       "      <th>Engine volume</th>\n",
       "      <th>Mileage</th>\n",
       "      <th>Cylinders</th>\n",
       "      <th>Gear box type</th>\n",
       "      <th>Drive wheels</th>\n",
       "      <th>Wheel</th>\n",
       "      <th>Color</th>\n",
       "      <th>Airbags</th>\n",
       "      <th>Age</th>\n",
       "    </tr>\n",
       "  </thead>\n",
       "  <tbody>\n",
       "    <tr>\n",
       "      <th>4159</th>\n",
       "      <td>6115</td>\n",
       "      <td>NaN</td>\n",
       "      <td>NISSAN</td>\n",
       "      <td>Skyline</td>\n",
       "      <td>Sedan</td>\n",
       "      <td>No</td>\n",
       "      <td>CNG</td>\n",
       "      <td>2.5</td>\n",
       "      <td>165000 km</td>\n",
       "      <td>6</td>\n",
       "      <td>Tiptronic</td>\n",
       "      <td>Rear</td>\n",
       "      <td>Right-hand drive</td>\n",
       "      <td>Silver</td>\n",
       "      <td>2</td>\n",
       "      <td>24</td>\n",
       "    </tr>\n",
       "  </tbody>\n",
       "</table>\n",
       "</div>"
      ],
      "text/plain": [
       "      Price  Levy Manufacturer    Model Category Leather interior Fuel type  \\\n",
       "4159   6115   NaN       NISSAN  Skyline    Sedan               No       CNG   \n",
       "\n",
       "     Engine volume    Mileage  Cylinders Gear box type Drive wheels  \\\n",
       "4159           2.5  165000 km          6     Tiptronic         Rear   \n",
       "\n",
       "                 Wheel   Color  Airbags  Age  \n",
       "4159  Right-hand drive  Silver        2   24  "
      ]
     },
     "execution_count": 25,
     "metadata": {},
     "output_type": "execute_result"
    }
   ],
   "source": [
    "import datetime\n",
    "now_date=datetime.datetime.now()\n",
    "data['Age']=now_date.year-data['Prod. year']\n",
    "data=data.drop(['Prod. year'],axis=1)\n",
    "\n",
    "data.sample()"
   ]
  },
  {
   "cell_type": "code",
   "execution_count": 26,
   "id": "e89b4d1c",
   "metadata": {},
   "outputs": [
    {
     "data": {
      "text/plain": [
       "Age\n",
       "13    1672\n",
       "11    1582\n",
       "12    1580\n",
       "10    1237\n",
       "9     1215\n",
       "14    1213\n",
       "15    1100\n",
       "8      754\n",
       "17     566\n",
       "16     479\n",
       "18     455\n",
       "7      421\n",
       "20     389\n",
       "22     355\n",
       "21     349\n",
       "19     310\n",
       "23     284\n",
       "25     276\n",
       "24     253\n",
       "6      231\n",
       "26     205\n",
       "27     204\n",
       "28     151\n",
       "29     109\n",
       "30     102\n",
       "5       43\n",
       "31      41\n",
       "33      30\n",
       "32      23\n",
       "35      18\n",
       "37      12\n",
       "34      10\n",
       "39       6\n",
       "36       6\n",
       "38       5\n",
       "41       5\n",
       "40       5\n",
       "72       4\n",
       "42       3\n",
       "86       3\n",
       "47       2\n",
       "45       2\n",
       "60       2\n",
       "48       2\n",
       "61       2\n",
       "82       1\n",
       "49       1\n",
       "68       1\n",
       "51       1\n",
       "57       1\n",
       "78       1\n",
       "43       1\n",
       "44       1\n",
       "52       1\n",
       "Name: count, dtype: int64"
      ]
     },
     "execution_count": 26,
     "metadata": {},
     "output_type": "execute_result"
    }
   ],
   "source": [
    "data['Age'].value_counts()"
   ]
  },
  {
   "cell_type": "code",
   "execution_count": 27,
   "id": "0c93f133",
   "metadata": {},
   "outputs": [
    {
     "data": {
      "text/plain": [
       "array(['3.5', '3', '1.3', '2.5', '2', '1.8', '2.4', '4', '1.6', '3.3',\n",
       "       '2.0 Turbo', '2.2 Turbo', '4.7', '1.5', '4.4', '3.0 Turbo',\n",
       "       '1.4 Turbo', '3.6', '2.3', '1.5 Turbo', '1.6 Turbo', '2.2',\n",
       "       '2.3 Turbo', '1.4', '5.5', '2.8 Turbo', '3.2', '3.8', '4.6', '1.2',\n",
       "       '5', '1.7', '2.9', '0.5', '1.8 Turbo', '2.4 Turbo', '3.5 Turbo',\n",
       "       '1.9', '2.7', '4.8', '5.3', '0.4', '2.8', '3.2 Turbo', '1.1',\n",
       "       '2.1', '0.7', '5.4', '1.3 Turbo', '3.7', '1', '2.5 Turbo', '2.6',\n",
       "       '1.9 Turbo', '4.4 Turbo', '4.7 Turbo', '0.8', '0.2 Turbo', '5.7',\n",
       "       '4.8 Turbo', '4.6 Turbo', '6.7', '6.2', '1.2 Turbo', '3.4',\n",
       "       '1.7 Turbo', '6.3 Turbo', '2.7 Turbo', '4.3', '4.2', '2.9 Turbo',\n",
       "       '0', '4.0 Turbo', '20', '3.6 Turbo', '0.3', '3.7 Turbo', '5.9',\n",
       "       '5.5 Turbo', '0.2', '2.1 Turbo', '5.6', '6', '0.7 Turbo',\n",
       "       '0.6 Turbo', '6.8', '4.5', '0.6', '7.3', '0.1', '1.0 Turbo', '6.3',\n",
       "       '4.5 Turbo', '0.8 Turbo', '4.2 Turbo', '3.1', '5.0 Turbo', '6.4',\n",
       "       '3.9', '5.7 Turbo', '0.9', '0.4 Turbo', '5.4 Turbo', '0.3 Turbo',\n",
       "       '5.2', '5.8', '1.1 Turbo'], dtype=object)"
      ]
     },
     "execution_count": 27,
     "metadata": {},
     "output_type": "execute_result"
    }
   ],
   "source": [
    "data['Engine volume'].unique()"
   ]
  },
  {
   "cell_type": "markdown",
   "id": "337b975f",
   "metadata": {},
   "source": [
    "### Create new feature - Turbo"
   ]
  },
  {
   "cell_type": "code",
   "execution_count": 28,
   "id": "2037c5ae",
   "metadata": {},
   "outputs": [
    {
     "data": {
      "text/plain": [
       "0        False\n",
       "1        False\n",
       "2        False\n",
       "3        False\n",
       "4        False\n",
       "         ...  \n",
       "19230    False\n",
       "19232     True\n",
       "19233    False\n",
       "19234    False\n",
       "19236    False\n",
       "Name: Has_Turbo, Length: 15725, dtype: bool"
      ]
     },
     "execution_count": 28,
     "metadata": {},
     "output_type": "execute_result"
    }
   ],
   "source": [
    "data['Has_Turbo'] = data['Engine volume'].str.contains('Turbo',case=False)\n",
    "data['Has_Turbo']"
   ]
  },
  {
   "cell_type": "code",
   "execution_count": 29,
   "id": "edc73bf8",
   "metadata": {},
   "outputs": [
    {
     "data": {
      "text/html": [
       "<div>\n",
       "<style scoped>\n",
       "    .dataframe tbody tr th:only-of-type {\n",
       "        vertical-align: middle;\n",
       "    }\n",
       "\n",
       "    .dataframe tbody tr th {\n",
       "        vertical-align: top;\n",
       "    }\n",
       "\n",
       "    .dataframe thead th {\n",
       "        text-align: right;\n",
       "    }\n",
       "</style>\n",
       "<table border=\"1\" class=\"dataframe\">\n",
       "  <thead>\n",
       "    <tr style=\"text-align: right;\">\n",
       "      <th></th>\n",
       "      <th>Price</th>\n",
       "      <th>Levy</th>\n",
       "      <th>Manufacturer</th>\n",
       "      <th>Model</th>\n",
       "      <th>Category</th>\n",
       "      <th>Leather interior</th>\n",
       "      <th>Fuel type</th>\n",
       "      <th>Engine volume</th>\n",
       "      <th>Mileage</th>\n",
       "      <th>Cylinders</th>\n",
       "      <th>Gear box type</th>\n",
       "      <th>Drive wheels</th>\n",
       "      <th>Wheel</th>\n",
       "      <th>Color</th>\n",
       "      <th>Airbags</th>\n",
       "      <th>Age</th>\n",
       "      <th>Has_Turbo</th>\n",
       "    </tr>\n",
       "  </thead>\n",
       "  <tbody>\n",
       "    <tr>\n",
       "      <th>10450</th>\n",
       "      <td>5425</td>\n",
       "      <td>1095.0</td>\n",
       "      <td>SSANGYONG</td>\n",
       "      <td>Kyron</td>\n",
       "      <td>Jeep</td>\n",
       "      <td>Yes</td>\n",
       "      <td>Diesel</td>\n",
       "      <td>2</td>\n",
       "      <td>98329 km</td>\n",
       "      <td>4</td>\n",
       "      <td>Automatic</td>\n",
       "      <td>Front</td>\n",
       "      <td>Left wheel</td>\n",
       "      <td>Black</td>\n",
       "      <td>4</td>\n",
       "      <td>17</td>\n",
       "      <td>False</td>\n",
       "    </tr>\n",
       "    <tr>\n",
       "      <th>6924</th>\n",
       "      <td>17249</td>\n",
       "      <td>NaN</td>\n",
       "      <td>FIAT</td>\n",
       "      <td>500</td>\n",
       "      <td>Coupe</td>\n",
       "      <td>No</td>\n",
       "      <td>Petrol</td>\n",
       "      <td>1.6</td>\n",
       "      <td>43000 km</td>\n",
       "      <td>4</td>\n",
       "      <td>Automatic</td>\n",
       "      <td>Front</td>\n",
       "      <td>Left wheel</td>\n",
       "      <td>Black</td>\n",
       "      <td>10</td>\n",
       "      <td>9</td>\n",
       "      <td>False</td>\n",
       "    </tr>\n",
       "    <tr>\n",
       "      <th>1406</th>\n",
       "      <td>3136</td>\n",
       "      <td>259.0</td>\n",
       "      <td>CHEVROLET</td>\n",
       "      <td>Volt</td>\n",
       "      <td>Hatchback</td>\n",
       "      <td>Yes</td>\n",
       "      <td>Hybrid</td>\n",
       "      <td>1.4</td>\n",
       "      <td>112123 km</td>\n",
       "      <td>4</td>\n",
       "      <td>Automatic</td>\n",
       "      <td>Front</td>\n",
       "      <td>Left wheel</td>\n",
       "      <td>Silver</td>\n",
       "      <td>12</td>\n",
       "      <td>11</td>\n",
       "      <td>False</td>\n",
       "    </tr>\n",
       "    <tr>\n",
       "      <th>6215</th>\n",
       "      <td>51517</td>\n",
       "      <td>891.0</td>\n",
       "      <td>HYUNDAI</td>\n",
       "      <td>Santa FE</td>\n",
       "      <td>Jeep</td>\n",
       "      <td>Yes</td>\n",
       "      <td>Diesel</td>\n",
       "      <td>2</td>\n",
       "      <td>123898 km</td>\n",
       "      <td>4</td>\n",
       "      <td>Automatic</td>\n",
       "      <td>Front</td>\n",
       "      <td>Left wheel</td>\n",
       "      <td>White</td>\n",
       "      <td>4</td>\n",
       "      <td>9</td>\n",
       "      <td>False</td>\n",
       "    </tr>\n",
       "    <tr>\n",
       "      <th>18235</th>\n",
       "      <td>24775</td>\n",
       "      <td>456.0</td>\n",
       "      <td>TOYOTA</td>\n",
       "      <td>Camry se</td>\n",
       "      <td>Sedan</td>\n",
       "      <td>Yes</td>\n",
       "      <td>Hybrid</td>\n",
       "      <td>2.5</td>\n",
       "      <td>141000 km</td>\n",
       "      <td>6</td>\n",
       "      <td>Variator</td>\n",
       "      <td>Front</td>\n",
       "      <td>Left wheel</td>\n",
       "      <td>Black</td>\n",
       "      <td>10</td>\n",
       "      <td>10</td>\n",
       "      <td>False</td>\n",
       "    </tr>\n",
       "  </tbody>\n",
       "</table>\n",
       "</div>"
      ],
      "text/plain": [
       "       Price    Levy Manufacturer     Model   Category Leather interior  \\\n",
       "10450   5425  1095.0    SSANGYONG     Kyron       Jeep              Yes   \n",
       "6924   17249     NaN         FIAT       500      Coupe               No   \n",
       "1406    3136   259.0    CHEVROLET      Volt  Hatchback              Yes   \n",
       "6215   51517   891.0      HYUNDAI  Santa FE       Jeep              Yes   \n",
       "18235  24775   456.0       TOYOTA  Camry se      Sedan              Yes   \n",
       "\n",
       "      Fuel type Engine volume    Mileage  Cylinders Gear box type  \\\n",
       "10450    Diesel             2   98329 km          4     Automatic   \n",
       "6924     Petrol           1.6   43000 km          4     Automatic   \n",
       "1406     Hybrid           1.4  112123 km          4     Automatic   \n",
       "6215     Diesel             2  123898 km          4     Automatic   \n",
       "18235    Hybrid           2.5  141000 km          6      Variator   \n",
       "\n",
       "      Drive wheels       Wheel   Color  Airbags  Age  Has_Turbo  \n",
       "10450        Front  Left wheel   Black        4   17      False  \n",
       "6924         Front  Left wheel   Black       10    9      False  \n",
       "1406         Front  Left wheel  Silver       12   11      False  \n",
       "6215         Front  Left wheel   White        4    9      False  \n",
       "18235        Front  Left wheel   Black       10   10      False  "
      ]
     },
     "execution_count": 29,
     "metadata": {},
     "output_type": "execute_result"
    }
   ],
   "source": [
    "data.sample(5)"
   ]
  },
  {
   "cell_type": "markdown",
   "id": "dcd77d33",
   "metadata": {},
   "source": [
    "#### Engine volume feature is modified or engineered"
   ]
  },
  {
   "cell_type": "code",
   "execution_count": 30,
   "id": "45a8ed16",
   "metadata": {},
   "outputs": [
    {
     "data": {
      "text/plain": [
       "array(['3.5', '3', '1.3', '2.5', '2', '1.8', '2.4', '4', '1.6', '3.3',\n",
       "       '2.0 ', '2.2 ', '4.7', '1.5', '4.4', '3.0 ', '1.4 ', '3.6', '2.3',\n",
       "       '1.5 ', '1.6 ', '2.2', '2.3 ', '1.4', '5.5', '2.8 ', '3.2', '3.8',\n",
       "       '4.6', '1.2', '5', '1.7', '2.9', '0.5', '1.8 ', '2.4 ', '3.5 ',\n",
       "       '1.9', '2.7', '4.8', '5.3', '0.4', '2.8', '3.2 ', '1.1', '2.1',\n",
       "       '0.7', '5.4', '1.3 ', '3.7', '1', '2.5 ', '2.6', '1.9 ', '4.4 ',\n",
       "       '4.7 ', '0.8', '0.2 ', '5.7', '4.8 ', '4.6 ', '6.7', '6.2', '1.2 ',\n",
       "       '3.4', '1.7 ', '6.3 ', '2.7 ', '4.3', '4.2', '2.9 ', '0', '4.0 ',\n",
       "       '20', '3.6 ', '0.3', '3.7 ', '5.9', '5.5 ', '0.2', '2.1 ', '5.6',\n",
       "       '6', '0.7 ', '0.6 ', '6.8', '4.5', '0.6', '7.3', '0.1', '1.0 ',\n",
       "       '6.3', '4.5 ', '0.8 ', '4.2 ', '3.1', '5.0 ', '6.4', '3.9', '5.7 ',\n",
       "       '0.9', '0.4 ', '5.4 ', '0.3 ', '5.2', '5.8', '1.1 '], dtype=object)"
      ]
     },
     "execution_count": 30,
     "metadata": {},
     "output_type": "execute_result"
    }
   ],
   "source": [
    "\n",
    "data['Engine volume'] = data['Engine volume'].str.replace(\"Turbo\",\"\")\n",
    "data['Engine volume'].unique()"
   ]
  },
  {
   "cell_type": "code",
   "execution_count": 31,
   "id": "a64fbc52",
   "metadata": {},
   "outputs": [
    {
     "data": {
      "text/plain": [
       "array([ 3.5,  3. ,  1.3,  2.5,  2. ,  1.8,  2.4,  4. ,  1.6,  3.3,  2.2,\n",
       "        4.7,  1.5,  4.4,  1.4,  3.6,  2.3,  5.5,  2.8,  3.2,  3.8,  4.6,\n",
       "        1.2,  5. ,  1.7,  2.9,  0.5,  1.9,  2.7,  4.8,  5.3,  0.4,  1.1,\n",
       "        2.1,  0.7,  5.4,  3.7,  1. ,  2.6,  0.8,  0.2,  5.7,  6.7,  6.2,\n",
       "        3.4,  6.3,  4.3,  4.2,  0. , 20. ,  0.3,  5.9,  5.6,  6. ,  0.6,\n",
       "        6.8,  4.5,  7.3,  0.1,  3.1,  6.4,  3.9,  0.9,  5.2,  5.8])"
      ]
     },
     "execution_count": 31,
     "metadata": {},
     "output_type": "execute_result"
    }
   ],
   "source": [
    "data['Engine volume'] = data['Engine volume'].str.strip()\n",
    "data['Engine volume'] = data['Engine volume'].astype('float')\n",
    "data['Engine volume'].unique()"
   ]
  },
  {
   "cell_type": "code",
   "execution_count": 32,
   "id": "8abf0aff",
   "metadata": {},
   "outputs": [
    {
     "data": {
      "text/plain": [
       "array(['186005 km', '192000 km', '200000 km', ..., '140607 km',\n",
       "       '307325 km', '186923 km'], dtype=object)"
      ]
     },
     "execution_count": 32,
     "metadata": {},
     "output_type": "execute_result"
    }
   ],
   "source": [
    "data['Mileage'].unique()"
   ]
  },
  {
   "cell_type": "code",
   "execution_count": 33,
   "id": "489f09dd",
   "metadata": {},
   "outputs": [
    {
     "data": {
      "text/plain": [
       "array([186005, 192000, 200000, ..., 140607, 307325, 186923])"
      ]
     },
     "execution_count": 33,
     "metadata": {},
     "output_type": "execute_result"
    }
   ],
   "source": [
    "data['Mileage'] = data['Mileage'].str.replace(\"km\",\"\")\n",
    "data['Mileage'] = data['Mileage'].str.strip()\n",
    "data['Mileage'] = data['Mileage'].astype('int')\n",
    "\n",
    "data['Mileage'].unique()"
   ]
  },
  {
   "cell_type": "code",
   "execution_count": 34,
   "id": "bdbe6755",
   "metadata": {},
   "outputs": [
    {
     "data": {
      "text/plain": [
       "array(['Automatic', 'Tiptronic', 'Variator', 'Manual'], dtype=object)"
      ]
     },
     "execution_count": 34,
     "metadata": {},
     "output_type": "execute_result"
    }
   ],
   "source": [
    "data['Gear box type'].unique()"
   ]
  },
  {
   "cell_type": "code",
   "execution_count": 35,
   "id": "34f79c45",
   "metadata": {},
   "outputs": [
    {
     "data": {
      "text/plain": [
       "array(['4x4', 'Front', 'Rear'], dtype=object)"
      ]
     },
     "execution_count": 35,
     "metadata": {},
     "output_type": "execute_result"
    }
   ],
   "source": [
    "data['Drive wheels'].unique()"
   ]
  },
  {
   "cell_type": "code",
   "execution_count": 36,
   "id": "58d1f84f",
   "metadata": {},
   "outputs": [
    {
     "data": {
      "text/plain": [
       "array(['Left wheel', 'Right-hand drive'], dtype=object)"
      ]
     },
     "execution_count": 36,
     "metadata": {},
     "output_type": "execute_result"
    }
   ],
   "source": [
    "data['Wheel'].unique()"
   ]
  },
  {
   "cell_type": "code",
   "execution_count": 37,
   "id": "2e3a1e8e",
   "metadata": {},
   "outputs": [
    {
     "data": {
      "text/plain": [
       "array(['Silver', 'Black', 'White', 'Grey', 'Blue', 'Green', 'Red',\n",
       "       'Sky blue', 'Orange', 'Yellow', 'Brown', 'Golden', 'Beige',\n",
       "       'Carnelian red', 'Purple', 'Pink'], dtype=object)"
      ]
     },
     "execution_count": 37,
     "metadata": {},
     "output_type": "execute_result"
    }
   ],
   "source": [
    "data['Color'].unique()"
   ]
  },
  {
   "cell_type": "code",
   "execution_count": 38,
   "id": "18088e98",
   "metadata": {},
   "outputs": [
    {
     "data": {
      "text/plain": [
       "Color\n",
       "Black            3835\n",
       "White            3611\n",
       "Silver           3149\n",
       "Grey             1919\n",
       "Blue             1247\n",
       "Red               567\n",
       "Green             288\n",
       "Orange            204\n",
       "Carnelian red     177\n",
       "Brown             172\n",
       "Golden            142\n",
       "Beige             134\n",
       "Sky blue          122\n",
       "Yellow             94\n",
       "Purple             39\n",
       "Pink               25\n",
       "Name: count, dtype: int64"
      ]
     },
     "execution_count": 38,
     "metadata": {},
     "output_type": "execute_result"
    }
   ],
   "source": [
    "data['Color'].value_counts()"
   ]
  },
  {
   "cell_type": "code",
   "execution_count": 39,
   "id": "af8dea04",
   "metadata": {},
   "outputs": [
    {
     "name": "stdout",
     "output_type": "stream",
     "text": [
      "<class 'pandas.core.frame.DataFrame'>\n",
      "Index: 15725 entries, 0 to 19236\n",
      "Data columns (total 17 columns):\n",
      " #   Column            Non-Null Count  Dtype  \n",
      "---  ------            --------------  -----  \n",
      " 0   Price             15725 non-null  int64  \n",
      " 1   Levy              10041 non-null  float64\n",
      " 2   Manufacturer      15723 non-null  object \n",
      " 3   Model             15725 non-null  object \n",
      " 4   Category          15725 non-null  object \n",
      " 5   Leather interior  15725 non-null  object \n",
      " 6   Fuel type         15725 non-null  object \n",
      " 7   Engine volume     15725 non-null  float64\n",
      " 8   Mileage           15725 non-null  int32  \n",
      " 9   Cylinders         15725 non-null  int64  \n",
      " 10  Gear box type     15725 non-null  object \n",
      " 11  Drive wheels      15725 non-null  object \n",
      " 12  Wheel             15725 non-null  object \n",
      " 13  Color             15725 non-null  object \n",
      " 14  Airbags           15725 non-null  int64  \n",
      " 15  Age               15725 non-null  int64  \n",
      " 16  Has_Turbo         15725 non-null  bool   \n",
      "dtypes: bool(1), float64(2), int32(1), int64(4), object(9)\n",
      "memory usage: 2.0+ MB\n"
     ]
    }
   ],
   "source": [
    "data.info()"
   ]
  },
  {
   "cell_type": "markdown",
   "id": "dd77bc8b",
   "metadata": {},
   "source": [
    "### Check null values"
   ]
  },
  {
   "cell_type": "code",
   "execution_count": 40,
   "id": "97597b2f",
   "metadata": {},
   "outputs": [
    {
     "data": {
      "text/plain": [
       "Price                  0\n",
       "Levy                5684\n",
       "Manufacturer           2\n",
       "Model                  0\n",
       "Category               0\n",
       "Leather interior       0\n",
       "Fuel type              0\n",
       "Engine volume          0\n",
       "Mileage                0\n",
       "Cylinders              0\n",
       "Gear box type          0\n",
       "Drive wheels           0\n",
       "Wheel                  0\n",
       "Color                  0\n",
       "Airbags                0\n",
       "Age                    0\n",
       "Has_Turbo              0\n",
       "dtype: int64"
      ]
     },
     "execution_count": 40,
     "metadata": {},
     "output_type": "execute_result"
    }
   ],
   "source": [
    "data.isnull().sum()"
   ]
  },
  {
   "cell_type": "code",
   "execution_count": 41,
   "id": "11fb9a49",
   "metadata": {},
   "outputs": [
    {
     "data": {
      "text/plain": [
       "Price                0.000000\n",
       "Levy                36.146264\n",
       "Manufacturer         0.012719\n",
       "Model                0.000000\n",
       "Category             0.000000\n",
       "Leather interior     0.000000\n",
       "Fuel type            0.000000\n",
       "Engine volume        0.000000\n",
       "Mileage              0.000000\n",
       "Cylinders            0.000000\n",
       "Gear box type        0.000000\n",
       "Drive wheels         0.000000\n",
       "Wheel                0.000000\n",
       "Color                0.000000\n",
       "Airbags              0.000000\n",
       "Age                  0.000000\n",
       "Has_Turbo            0.000000\n",
       "dtype: float64"
      ]
     },
     "execution_count": 41,
     "metadata": {},
     "output_type": "execute_result"
    }
   ],
   "source": [
    "data.isnull().sum()/data.shape[0]*100"
   ]
  },
  {
   "cell_type": "markdown",
   "id": "e99d599a",
   "metadata": {},
   "source": [
    "### conclusion -\n",
    "1. Impluting column 'Levy' as there are 36% null data\n",
    "2. Imputing manufacturer column using forward fill"
   ]
  },
  {
   "cell_type": "code",
   "execution_count": 42,
   "id": "defe77d5",
   "metadata": {},
   "outputs": [],
   "source": [
    "imputer = SimpleImputer(strategy='median')\n",
    "data['Levy'] = imputer.fit_transform(data[['Levy']])"
   ]
  },
  {
   "cell_type": "code",
   "execution_count": 43,
   "id": "13e2617c",
   "metadata": {},
   "outputs": [
    {
     "data": {
      "text/plain": [
       "Price               0.000000\n",
       "Levy                0.000000\n",
       "Manufacturer        0.012719\n",
       "Model               0.000000\n",
       "Category            0.000000\n",
       "Leather interior    0.000000\n",
       "Fuel type           0.000000\n",
       "Engine volume       0.000000\n",
       "Mileage             0.000000\n",
       "Cylinders           0.000000\n",
       "Gear box type       0.000000\n",
       "Drive wheels        0.000000\n",
       "Wheel               0.000000\n",
       "Color               0.000000\n",
       "Airbags             0.000000\n",
       "Age                 0.000000\n",
       "Has_Turbo           0.000000\n",
       "dtype: float64"
      ]
     },
     "execution_count": 43,
     "metadata": {},
     "output_type": "execute_result"
    }
   ],
   "source": [
    "data.isnull().sum()/data.shape[0]*100"
   ]
  },
  {
   "cell_type": "code",
   "execution_count": 44,
   "id": "073d78e5",
   "metadata": {},
   "outputs": [
    {
     "data": {
      "text/html": [
       "<div>\n",
       "<style scoped>\n",
       "    .dataframe tbody tr th:only-of-type {\n",
       "        vertical-align: middle;\n",
       "    }\n",
       "\n",
       "    .dataframe tbody tr th {\n",
       "        vertical-align: top;\n",
       "    }\n",
       "\n",
       "    .dataframe thead th {\n",
       "        text-align: right;\n",
       "    }\n",
       "</style>\n",
       "<table border=\"1\" class=\"dataframe\">\n",
       "  <thead>\n",
       "    <tr style=\"text-align: right;\">\n",
       "      <th></th>\n",
       "      <th>Price</th>\n",
       "      <th>Levy</th>\n",
       "      <th>Manufacturer</th>\n",
       "      <th>Model</th>\n",
       "      <th>Category</th>\n",
       "      <th>Leather interior</th>\n",
       "      <th>Fuel type</th>\n",
       "      <th>Engine volume</th>\n",
       "      <th>Mileage</th>\n",
       "      <th>Cylinders</th>\n",
       "      <th>Gear box type</th>\n",
       "      <th>Drive wheels</th>\n",
       "      <th>Wheel</th>\n",
       "      <th>Color</th>\n",
       "      <th>Airbags</th>\n",
       "      <th>Age</th>\n",
       "      <th>Has_Turbo</th>\n",
       "    </tr>\n",
       "  </thead>\n",
       "  <tbody>\n",
       "    <tr>\n",
       "      <th>0</th>\n",
       "      <td>13328</td>\n",
       "      <td>1399.0</td>\n",
       "      <td>LEXUS</td>\n",
       "      <td>RX 450</td>\n",
       "      <td>Jeep</td>\n",
       "      <td>Yes</td>\n",
       "      <td>Hybrid</td>\n",
       "      <td>3.5</td>\n",
       "      <td>186005</td>\n",
       "      <td>6</td>\n",
       "      <td>Automatic</td>\n",
       "      <td>4x4</td>\n",
       "      <td>Left wheel</td>\n",
       "      <td>Silver</td>\n",
       "      <td>12</td>\n",
       "      <td>15</td>\n",
       "      <td>False</td>\n",
       "    </tr>\n",
       "    <tr>\n",
       "      <th>1</th>\n",
       "      <td>16621</td>\n",
       "      <td>1018.0</td>\n",
       "      <td>CHEVROLET</td>\n",
       "      <td>Equinox</td>\n",
       "      <td>Jeep</td>\n",
       "      <td>No</td>\n",
       "      <td>Petrol</td>\n",
       "      <td>3.0</td>\n",
       "      <td>192000</td>\n",
       "      <td>6</td>\n",
       "      <td>Tiptronic</td>\n",
       "      <td>4x4</td>\n",
       "      <td>Left wheel</td>\n",
       "      <td>Black</td>\n",
       "      <td>8</td>\n",
       "      <td>14</td>\n",
       "      <td>False</td>\n",
       "    </tr>\n",
       "  </tbody>\n",
       "</table>\n",
       "</div>"
      ],
      "text/plain": [
       "   Price    Levy Manufacturer    Model Category Leather interior Fuel type  \\\n",
       "0  13328  1399.0        LEXUS   RX 450     Jeep              Yes    Hybrid   \n",
       "1  16621  1018.0    CHEVROLET  Equinox     Jeep               No    Petrol   \n",
       "\n",
       "   Engine volume  Mileage  Cylinders Gear box type Drive wheels       Wheel  \\\n",
       "0            3.5   186005          6     Automatic          4x4  Left wheel   \n",
       "1            3.0   192000          6     Tiptronic          4x4  Left wheel   \n",
       "\n",
       "    Color  Airbags  Age  Has_Turbo  \n",
       "0  Silver       12   15      False  \n",
       "1   Black        8   14      False  "
      ]
     },
     "execution_count": 44,
     "metadata": {},
     "output_type": "execute_result"
    }
   ],
   "source": [
    "data.head(2)"
   ]
  },
  {
   "cell_type": "code",
   "execution_count": 45,
   "id": "9751bd73",
   "metadata": {},
   "outputs": [
    {
     "data": {
      "text/plain": [
       "array(['LEXUS', 'CHEVROLET', 'HONDA', 'FORD', 'HYUNDAI', 'TOYOTA',\n",
       "       'MERCEDES-BENZ', 'OPEL', 'PORSCHE', 'BMW', 'JEEP', 'VOLKSWAGEN',\n",
       "       'AUDI', 'RENAULT', 'NISSAN', 'SUBARU', 'DAEWOO', 'KIA',\n",
       "       'MITSUBISHI', 'SSANGYONG', 'MAZDA', 'GMC', 'FIAT', 'INFINITI',\n",
       "       'ALFA ROMEO', 'SUZUKI', 'ACURA', 'LINCOLN', 'VAZ', 'GAZ',\n",
       "       'CITROEN', 'LAND ROVER', 'MINI', 'DODGE', 'CHRYSLER', 'JAGUAR',\n",
       "       'ISUZU', 'SKODA', 'DAIHATSU', 'BUICK', 'TESLA', 'CADILLAC',\n",
       "       'PEUGEOT', 'BENTLEY', 'VOLVO', nan, 'HAVAL', 'HUMMER', 'SCION',\n",
       "       'UAZ', 'MERCURY', 'ZAZ', 'ROVER', 'SEAT', 'LANCIA', 'MOSKVICH',\n",
       "       'MASERATI', 'FERRARI', 'SAAB', 'LAMBORGHINI', 'ROLLS-ROYCE',\n",
       "       'PONTIAC', 'SATURN', 'ASTON MARTIN', 'GREATWALL'], dtype=object)"
      ]
     },
     "execution_count": 45,
     "metadata": {},
     "output_type": "execute_result"
    }
   ],
   "source": [
    "data.Manufacturer.unique()"
   ]
  },
  {
   "cell_type": "code",
   "execution_count": 46,
   "id": "9e01e59b",
   "metadata": {},
   "outputs": [
    {
     "name": "stderr",
     "output_type": "stream",
     "text": [
      "C:\\Users\\shamr\\AppData\\Local\\Temp\\ipykernel_26300\\3720621773.py:1: FutureWarning: A value is trying to be set on a copy of a DataFrame or Series through chained assignment using an inplace method.\n",
      "The behavior will change in pandas 3.0. This inplace method will never work because the intermediate object on which we are setting values always behaves as a copy.\n",
      "\n",
      "For example, when doing 'df[col].method(value, inplace=True)', try using 'df.method({col: value}, inplace=True)' or df[col] = df[col].method(value) instead, to perform the operation inplace on the original object.\n",
      "\n",
      "\n",
      "  data['Manufacturer'].fillna(method='ffill', inplace=True)\n",
      "C:\\Users\\shamr\\AppData\\Local\\Temp\\ipykernel_26300\\3720621773.py:1: FutureWarning: Series.fillna with 'method' is deprecated and will raise in a future version. Use obj.ffill() or obj.bfill() instead.\n",
      "  data['Manufacturer'].fillna(method='ffill', inplace=True)\n"
     ]
    }
   ],
   "source": [
    "data['Manufacturer'].fillna(method='ffill', inplace=True)  "
   ]
  },
  {
   "cell_type": "code",
   "execution_count": 47,
   "id": "6daf780e",
   "metadata": {},
   "outputs": [
    {
     "data": {
      "text/plain": [
       "Price               0\n",
       "Levy                0\n",
       "Manufacturer        0\n",
       "Model               0\n",
       "Category            0\n",
       "Leather interior    0\n",
       "Fuel type           0\n",
       "Engine volume       0\n",
       "Mileage             0\n",
       "Cylinders           0\n",
       "Gear box type       0\n",
       "Drive wheels        0\n",
       "Wheel               0\n",
       "Color               0\n",
       "Airbags             0\n",
       "Age                 0\n",
       "Has_Turbo           0\n",
       "dtype: int64"
      ]
     },
     "execution_count": 47,
     "metadata": {},
     "output_type": "execute_result"
    }
   ],
   "source": [
    "data.isnull().sum()"
   ]
  },
  {
   "cell_type": "code",
   "execution_count": 48,
   "id": "2c047490",
   "metadata": {},
   "outputs": [
    {
     "name": "stdout",
     "output_type": "stream",
     "text": [
      "Numerical features:  ['Price', 'Levy', 'Engine volume', 'Cylinders', 'Airbags', 'Age']\n",
      "\n",
      "Categorical features:  ['Manufacturer', 'Model', 'Category', 'Leather interior', 'Fuel type', 'Gear box type', 'Drive wheels', 'Wheel', 'Color']\n"
     ]
    }
   ],
   "source": [
    "#organize num and categorical features\n",
    "cat_features=[]\n",
    "num_features=[]\n",
    "for i in data.columns:\n",
    "    if data[i].dtype=='int64' or data[i].dtype=='float64' :\n",
    "        num_features.append(i)\n",
    "    elif data[i].dtype=='object':\n",
    "        cat_features.append(i)\n",
    "\n",
    "print(\"Numerical features: \",num_features)\n",
    "print()\n",
    "print(\"Categorical features: \",cat_features)"
   ]
  },
  {
   "cell_type": "markdown",
   "id": "8621e832",
   "metadata": {},
   "source": [
    "### Outlier detection"
   ]
  },
  {
   "cell_type": "code",
   "execution_count": 49,
   "id": "9a13b1f3",
   "metadata": {},
   "outputs": [
    {
     "name": "stdout",
     "output_type": "stream",
     "text": [
      "Price           -16228.5\n",
      "Levy               572.0\n",
      "Engine volume        0.5\n",
      "Cylinders            4.0\n",
      "Airbags             -8.0\n",
      "Age                  2.0\n",
      "dtype: float64\n",
      "-------------------------\n",
      "Price            47119.5\n",
      "Levy              1036.0\n",
      "Engine volume        3.7\n",
      "Cylinders            4.0\n",
      "Airbags             24.0\n",
      "Age                 26.0\n",
      "dtype: float64\n"
     ]
    }
   ],
   "source": [
    "numeric_columns = data.select_dtypes(exclude=['object']).columns\n",
    "\n",
    "# Calculate the IQR for each numeric column\n",
    "Q1 = data[num_features].quantile(0.25)\n",
    "Q3 = data[num_features].quantile(0.75)\n",
    "IQR = Q3 - Q1\n",
    "\n",
    "# Define the bounds to filter out outliers\n",
    "lower_bound = Q1 - 1.5 * IQR\n",
    "upper_bound = Q3 + 1.5 * IQR\n",
    "\n",
    "print(lower_bound)\n",
    "print(\"-------------------------\")\n",
    "print(upper_bound)\n"
   ]
  },
  {
   "cell_type": "code",
   "execution_count": 50,
   "id": "3cd3343f",
   "metadata": {},
   "outputs": [
    {
     "data": {
      "text/plain": [
       "(8732, 17)"
      ]
     },
     "execution_count": 50,
     "metadata": {},
     "output_type": "execute_result"
    }
   ],
   "source": [
    "# Filter out the outliers\n",
    "data = data[~((data[num_features] < lower_bound) | (data[num_features] > upper_bound)).any(axis=1)]\n",
    "\n",
    "# Display the cleaned data\n",
    "data.shape"
   ]
  },
  {
   "cell_type": "code",
   "execution_count": 51,
   "id": "edf61675",
   "metadata": {},
   "outputs": [
    {
     "name": "stdout",
     "output_type": "stream",
     "text": [
      "----------- Manufacturer ------------\n",
      "Manufacturer\n",
      "HYUNDAI          2283\n",
      "TOYOTA           1768\n",
      "CHEVROLET         599\n",
      "HONDA             512\n",
      "FORD              511\n",
      "MERCEDES-BENZ     372\n",
      "SSANGYONG         363\n",
      "NISSAN            349\n",
      "VOLKSWAGEN        338\n",
      "KIA               285\n",
      "OPEL              196\n",
      "SUBARU            170\n",
      "MITSUBISHI        170\n",
      "BMW               148\n",
      "LEXUS              99\n",
      "MAZDA              92\n",
      "AUDI               77\n",
      "DAEWOO             59\n",
      "JEEP               52\n",
      "SUZUKI             40\n",
      "DODGE              37\n",
      "FIAT               34\n",
      "MINI               28\n",
      "RENAULT            27\n",
      "SKODA              18\n",
      "VAZ                14\n",
      "PEUGEOT            11\n",
      "CHRYSLER            9\n",
      "BUICK               8\n",
      "JAGUAR              7\n",
      "SCION               7\n",
      "ACURA               5\n",
      "LAND ROVER          5\n",
      "DAIHATSU            5\n",
      "GMC                 5\n",
      "CITROEN             5\n",
      "INFINITI            4\n",
      "VOLVO               3\n",
      "ALFA ROMEO          3\n",
      "SEAT                2\n",
      "CADILLAC            2\n",
      "LINCOLN             2\n",
      "UAZ                 2\n",
      "HAVAL               1\n",
      "LANCIA              1\n",
      "MERCURY             1\n",
      "SAAB                1\n",
      "SATURN              1\n",
      "GAZ                 1\n",
      "Name: count, dtype: int64\n",
      "----------- Model ------------\n",
      "Model\n",
      "Prius         795\n",
      "Sonata        696\n",
      "Elantra       539\n",
      "Camry         380\n",
      "Tucson        352\n",
      "             ... \n",
      "Vitz i.ll       1\n",
      "Highlander      1\n",
      "Prius S         1\n",
      "100 NX          1\n",
      "Optima ex       1\n",
      "Name: count, Length: 834, dtype: int64\n",
      "----------- Category ------------\n",
      "Category\n",
      "Sedan          4180\n",
      "Jeep           2009\n",
      "Hatchback      1591\n",
      "Minivan         325\n",
      "Coupe           199\n",
      "Universal       140\n",
      "Goods wagon     139\n",
      "Microbus        128\n",
      "Pickup           18\n",
      "Cabriolet         3\n",
      "Name: count, dtype: int64\n",
      "----------- Leather interior ------------\n",
      "Leather interior\n",
      "Yes    5506\n",
      "No     3226\n",
      "Name: count, dtype: int64\n",
      "----------- Fuel type ------------\n",
      "Fuel type\n",
      "Petrol            4646\n",
      "Diesel            1898\n",
      "Hybrid            1429\n",
      "LPG                553\n",
      "CNG                155\n",
      "Plug-in Hybrid      51\n",
      "Name: count, dtype: int64\n",
      "----------- Gear box type ------------\n",
      "Gear box type\n",
      "Automatic    5947\n",
      "Tiptronic    1347\n",
      "Manual        883\n",
      "Variator      555\n",
      "Name: count, dtype: int64\n",
      "----------- Drive wheels ------------\n",
      "Drive wheels\n",
      "Front    7375\n",
      "4x4       820\n",
      "Rear      537\n",
      "Name: count, dtype: int64\n",
      "----------- Wheel ------------\n",
      "Wheel\n",
      "Left wheel          7840\n",
      "Right-hand drive     892\n",
      "Name: count, dtype: int64\n",
      "----------- Color ------------\n",
      "Color\n",
      "White            2122\n",
      "Silver           1927\n",
      "Black            1854\n",
      "Grey             1097\n",
      "Blue              635\n",
      "Red               324\n",
      "Orange            173\n",
      "Green             104\n",
      "Carnelian red     101\n",
      "Golden             89\n",
      "Brown              88\n",
      "Sky blue           76\n",
      "Beige              70\n",
      "Yellow             44\n",
      "Purple             16\n",
      "Pink               12\n",
      "Name: count, dtype: int64\n"
     ]
    }
   ],
   "source": [
    "for feat in cat_features:\n",
    "    print(\"-----------\",feat,\"------------\")\n",
    "    print(data[feat].value_counts())"
   ]
  },
  {
   "cell_type": "code",
   "execution_count": 52,
   "id": "15b196cb",
   "metadata": {},
   "outputs": [
    {
     "name": "stdout",
     "output_type": "stream",
     "text": [
      "[2283, 1768, 599, 512, 511, 372, 363, 349, 338, 285, 196, 170, 170, 148, 99, 92, 77, 59, 52, 40, 37, 34, 28, 27, 18, 14, 11, 9, 8, 7, 7, 5, 5, 5, 5, 5, 4, 3, 3, 2, 2, 2, 2, 1, 1, 1, 1, 1, 1]\n"
     ]
    }
   ],
   "source": [
    "print(list(data['Manufacturer'].value_counts()))"
   ]
  },
  {
   "cell_type": "code",
   "execution_count": 53,
   "id": "612a49ff",
   "metadata": {},
   "outputs": [
    {
     "name": "stdout",
     "output_type": "stream",
     "text": [
      "19        SUZUKI\n",
      "20         DODGE\n",
      "21          FIAT\n",
      "22          MINI\n",
      "23       RENAULT\n",
      "24         SKODA\n",
      "25           VAZ\n",
      "26       PEUGEOT\n",
      "27      CHRYSLER\n",
      "28         BUICK\n",
      "29        JAGUAR\n",
      "30         SCION\n",
      "31         ACURA\n",
      "32    LAND ROVER\n",
      "33      DAIHATSU\n",
      "34           GMC\n",
      "35       CITROEN\n",
      "36      INFINITI\n",
      "37         VOLVO\n",
      "38    ALFA ROMEO\n",
      "39          SEAT\n",
      "40      CADILLAC\n",
      "41       LINCOLN\n",
      "42           UAZ\n",
      "43         HAVAL\n",
      "44        LANCIA\n",
      "45       MERCURY\n",
      "46          SAAB\n",
      "47        SATURN\n",
      "48           GAZ\n",
      "Name: Manufacturer, dtype: object\n"
     ]
    }
   ],
   "source": [
    "df_counts = data['Manufacturer'].value_counts().reset_index()\n",
    "df_counts.columns = ['Manufacturer', 'Count']\n",
    "\n",
    "# Filter where Count < 50\n",
    "df_counts_filtered = df_counts[df_counts['Count'] < 50]\n",
    "print(df_counts_filtered['Manufacturer'])\n"
   ]
  },
  {
   "cell_type": "code",
   "execution_count": 54,
   "id": "5da7d0a3",
   "metadata": {},
   "outputs": [],
   "source": [
    "def manufacturer(company):\n",
    "    if company in list(df_counts_filtered['Manufacturer']):\n",
    "        return \"OTHER\"\n",
    "    else:\n",
    "        return company\n",
    "    \n",
    "data['Manufacturer'] = list(map(manufacturer,data['Manufacturer']))"
   ]
  },
  {
   "cell_type": "code",
   "execution_count": 55,
   "id": "ffc6c935",
   "metadata": {},
   "outputs": [
    {
     "data": {
      "text/plain": [
       "Manufacturer\n",
       "HYUNDAI          2283\n",
       "TOYOTA           1768\n",
       "CHEVROLET         599\n",
       "HONDA             512\n",
       "FORD              511\n",
       "MERCEDES-BENZ     372\n",
       "SSANGYONG         363\n",
       "NISSAN            349\n",
       "VOLKSWAGEN        338\n",
       "OTHER             289\n",
       "KIA               285\n",
       "OPEL              196\n",
       "SUBARU            170\n",
       "MITSUBISHI        170\n",
       "BMW               148\n",
       "LEXUS              99\n",
       "MAZDA              92\n",
       "AUDI               77\n",
       "DAEWOO             59\n",
       "JEEP               52\n",
       "Name: count, dtype: int64"
      ]
     },
     "execution_count": 55,
     "metadata": {},
     "output_type": "execute_result"
    }
   ],
   "source": [
    "data['Manufacturer'].value_counts()"
   ]
  },
  {
   "cell_type": "markdown",
   "id": "3e23a45d",
   "metadata": {},
   "source": [
    "### Split X and Y"
   ]
  },
  {
   "cell_type": "code",
   "execution_count": 56,
   "id": "99102cf6",
   "metadata": {},
   "outputs": [
    {
     "data": {
      "text/plain": [
       "Index(['Price', 'Levy', 'Manufacturer', 'Model', 'Category',\n",
       "       'Leather interior', 'Fuel type', 'Engine volume', 'Mileage',\n",
       "       'Cylinders', 'Gear box type', 'Drive wheels', 'Wheel', 'Color',\n",
       "       'Airbags', 'Age', 'Has_Turbo'],\n",
       "      dtype='object')"
      ]
     },
     "execution_count": 56,
     "metadata": {},
     "output_type": "execute_result"
    }
   ],
   "source": [
    "data.columns"
   ]
  },
  {
   "cell_type": "code",
   "execution_count": 57,
   "id": "08e2fef2",
   "metadata": {},
   "outputs": [
    {
     "data": {
      "text/html": [
       "<div>\n",
       "<style scoped>\n",
       "    .dataframe tbody tr th:only-of-type {\n",
       "        vertical-align: middle;\n",
       "    }\n",
       "\n",
       "    .dataframe tbody tr th {\n",
       "        vertical-align: top;\n",
       "    }\n",
       "\n",
       "    .dataframe thead th {\n",
       "        text-align: right;\n",
       "    }\n",
       "</style>\n",
       "<table border=\"1\" class=\"dataframe\">\n",
       "  <thead>\n",
       "    <tr style=\"text-align: right;\">\n",
       "      <th></th>\n",
       "      <th>Price</th>\n",
       "    </tr>\n",
       "  </thead>\n",
       "  <tbody>\n",
       "    <tr>\n",
       "      <th>2</th>\n",
       "      <td>8467</td>\n",
       "    </tr>\n",
       "    <tr>\n",
       "      <th>3</th>\n",
       "      <td>3607</td>\n",
       "    </tr>\n",
       "    <tr>\n",
       "      <th>5</th>\n",
       "      <td>39493</td>\n",
       "    </tr>\n",
       "    <tr>\n",
       "      <th>6</th>\n",
       "      <td>1803</td>\n",
       "    </tr>\n",
       "  </tbody>\n",
       "</table>\n",
       "</div>"
      ],
      "text/plain": [
       "   Price\n",
       "2   8467\n",
       "3   3607\n",
       "5  39493\n",
       "6   1803"
      ]
     },
     "execution_count": 57,
     "metadata": {},
     "output_type": "execute_result"
    }
   ],
   "source": [
    "y = data[['Price']]\n",
    "y.head(4)"
   ]
  },
  {
   "cell_type": "code",
   "execution_count": 58,
   "id": "182c475a",
   "metadata": {},
   "outputs": [
    {
     "data": {
      "text/html": [
       "<div>\n",
       "<style scoped>\n",
       "    .dataframe tbody tr th:only-of-type {\n",
       "        vertical-align: middle;\n",
       "    }\n",
       "\n",
       "    .dataframe tbody tr th {\n",
       "        vertical-align: top;\n",
       "    }\n",
       "\n",
       "    .dataframe thead th {\n",
       "        text-align: right;\n",
       "    }\n",
       "</style>\n",
       "<table border=\"1\" class=\"dataframe\">\n",
       "  <thead>\n",
       "    <tr style=\"text-align: right;\">\n",
       "      <th></th>\n",
       "      <th>Levy</th>\n",
       "      <th>Manufacturer</th>\n",
       "      <th>Model</th>\n",
       "      <th>Category</th>\n",
       "      <th>Leather interior</th>\n",
       "      <th>Fuel type</th>\n",
       "      <th>Engine volume</th>\n",
       "      <th>Mileage</th>\n",
       "      <th>Cylinders</th>\n",
       "      <th>Gear box type</th>\n",
       "      <th>Drive wheels</th>\n",
       "      <th>Wheel</th>\n",
       "      <th>Color</th>\n",
       "      <th>Airbags</th>\n",
       "      <th>Age</th>\n",
       "      <th>Has_Turbo</th>\n",
       "    </tr>\n",
       "  </thead>\n",
       "  <tbody>\n",
       "    <tr>\n",
       "      <th>2</th>\n",
       "      <td>779.0</td>\n",
       "      <td>HONDA</td>\n",
       "      <td>FIT</td>\n",
       "      <td>Hatchback</td>\n",
       "      <td>No</td>\n",
       "      <td>Petrol</td>\n",
       "      <td>1.3</td>\n",
       "      <td>200000</td>\n",
       "      <td>4</td>\n",
       "      <td>Variator</td>\n",
       "      <td>Front</td>\n",
       "      <td>Right-hand drive</td>\n",
       "      <td>Black</td>\n",
       "      <td>2</td>\n",
       "      <td>19</td>\n",
       "      <td>False</td>\n",
       "    </tr>\n",
       "    <tr>\n",
       "      <th>3</th>\n",
       "      <td>862.0</td>\n",
       "      <td>FORD</td>\n",
       "      <td>Escape</td>\n",
       "      <td>Jeep</td>\n",
       "      <td>Yes</td>\n",
       "      <td>Hybrid</td>\n",
       "      <td>2.5</td>\n",
       "      <td>168966</td>\n",
       "      <td>4</td>\n",
       "      <td>Automatic</td>\n",
       "      <td>4x4</td>\n",
       "      <td>Left wheel</td>\n",
       "      <td>White</td>\n",
       "      <td>0</td>\n",
       "      <td>14</td>\n",
       "      <td>False</td>\n",
       "    </tr>\n",
       "    <tr>\n",
       "      <th>5</th>\n",
       "      <td>891.0</td>\n",
       "      <td>HYUNDAI</td>\n",
       "      <td>Santa FE</td>\n",
       "      <td>Jeep</td>\n",
       "      <td>Yes</td>\n",
       "      <td>Diesel</td>\n",
       "      <td>2.0</td>\n",
       "      <td>160931</td>\n",
       "      <td>4</td>\n",
       "      <td>Automatic</td>\n",
       "      <td>Front</td>\n",
       "      <td>Left wheel</td>\n",
       "      <td>White</td>\n",
       "      <td>4</td>\n",
       "      <td>9</td>\n",
       "      <td>False</td>\n",
       "    </tr>\n",
       "    <tr>\n",
       "      <th>6</th>\n",
       "      <td>761.0</td>\n",
       "      <td>TOYOTA</td>\n",
       "      <td>Prius</td>\n",
       "      <td>Hatchback</td>\n",
       "      <td>Yes</td>\n",
       "      <td>Hybrid</td>\n",
       "      <td>1.8</td>\n",
       "      <td>258909</td>\n",
       "      <td>4</td>\n",
       "      <td>Automatic</td>\n",
       "      <td>Front</td>\n",
       "      <td>Left wheel</td>\n",
       "      <td>White</td>\n",
       "      <td>12</td>\n",
       "      <td>15</td>\n",
       "      <td>False</td>\n",
       "    </tr>\n",
       "    <tr>\n",
       "      <th>7</th>\n",
       "      <td>751.0</td>\n",
       "      <td>HYUNDAI</td>\n",
       "      <td>Sonata</td>\n",
       "      <td>Sedan</td>\n",
       "      <td>Yes</td>\n",
       "      <td>Petrol</td>\n",
       "      <td>2.4</td>\n",
       "      <td>216118</td>\n",
       "      <td>4</td>\n",
       "      <td>Automatic</td>\n",
       "      <td>Front</td>\n",
       "      <td>Left wheel</td>\n",
       "      <td>Grey</td>\n",
       "      <td>12</td>\n",
       "      <td>12</td>\n",
       "      <td>False</td>\n",
       "    </tr>\n",
       "    <tr>\n",
       "      <th>...</th>\n",
       "      <td>...</td>\n",
       "      <td>...</td>\n",
       "      <td>...</td>\n",
       "      <td>...</td>\n",
       "      <td>...</td>\n",
       "      <td>...</td>\n",
       "      <td>...</td>\n",
       "      <td>...</td>\n",
       "      <td>...</td>\n",
       "      <td>...</td>\n",
       "      <td>...</td>\n",
       "      <td>...</td>\n",
       "      <td>...</td>\n",
       "      <td>...</td>\n",
       "      <td>...</td>\n",
       "      <td>...</td>\n",
       "    </tr>\n",
       "    <tr>\n",
       "      <th>19230</th>\n",
       "      <td>645.0</td>\n",
       "      <td>TOYOTA</td>\n",
       "      <td>Prius</td>\n",
       "      <td>Hatchback</td>\n",
       "      <td>Yes</td>\n",
       "      <td>Hybrid</td>\n",
       "      <td>1.8</td>\n",
       "      <td>307325</td>\n",
       "      <td>4</td>\n",
       "      <td>Automatic</td>\n",
       "      <td>Front</td>\n",
       "      <td>Left wheel</td>\n",
       "      <td>Silver</td>\n",
       "      <td>12</td>\n",
       "      <td>14</td>\n",
       "      <td>False</td>\n",
       "    </tr>\n",
       "    <tr>\n",
       "      <th>19232</th>\n",
       "      <td>779.0</td>\n",
       "      <td>MERCEDES-BENZ</td>\n",
       "      <td>CLK 200</td>\n",
       "      <td>Coupe</td>\n",
       "      <td>Yes</td>\n",
       "      <td>CNG</td>\n",
       "      <td>2.0</td>\n",
       "      <td>300000</td>\n",
       "      <td>4</td>\n",
       "      <td>Manual</td>\n",
       "      <td>Rear</td>\n",
       "      <td>Left wheel</td>\n",
       "      <td>Silver</td>\n",
       "      <td>5</td>\n",
       "      <td>26</td>\n",
       "      <td>True</td>\n",
       "    </tr>\n",
       "    <tr>\n",
       "      <th>19233</th>\n",
       "      <td>831.0</td>\n",
       "      <td>HYUNDAI</td>\n",
       "      <td>Sonata</td>\n",
       "      <td>Sedan</td>\n",
       "      <td>Yes</td>\n",
       "      <td>Petrol</td>\n",
       "      <td>2.4</td>\n",
       "      <td>161600</td>\n",
       "      <td>4</td>\n",
       "      <td>Tiptronic</td>\n",
       "      <td>Front</td>\n",
       "      <td>Left wheel</td>\n",
       "      <td>Red</td>\n",
       "      <td>8</td>\n",
       "      <td>14</td>\n",
       "      <td>False</td>\n",
       "    </tr>\n",
       "    <tr>\n",
       "      <th>19234</th>\n",
       "      <td>836.0</td>\n",
       "      <td>HYUNDAI</td>\n",
       "      <td>Tucson</td>\n",
       "      <td>Jeep</td>\n",
       "      <td>Yes</td>\n",
       "      <td>Diesel</td>\n",
       "      <td>2.0</td>\n",
       "      <td>116365</td>\n",
       "      <td>4</td>\n",
       "      <td>Automatic</td>\n",
       "      <td>Front</td>\n",
       "      <td>Left wheel</td>\n",
       "      <td>Grey</td>\n",
       "      <td>4</td>\n",
       "      <td>15</td>\n",
       "      <td>False</td>\n",
       "    </tr>\n",
       "    <tr>\n",
       "      <th>19236</th>\n",
       "      <td>753.0</td>\n",
       "      <td>HYUNDAI</td>\n",
       "      <td>Sonata</td>\n",
       "      <td>Sedan</td>\n",
       "      <td>Yes</td>\n",
       "      <td>Hybrid</td>\n",
       "      <td>2.4</td>\n",
       "      <td>186923</td>\n",
       "      <td>4</td>\n",
       "      <td>Automatic</td>\n",
       "      <td>Front</td>\n",
       "      <td>Left wheel</td>\n",
       "      <td>White</td>\n",
       "      <td>12</td>\n",
       "      <td>13</td>\n",
       "      <td>False</td>\n",
       "    </tr>\n",
       "  </tbody>\n",
       "</table>\n",
       "<p>8732 rows × 16 columns</p>\n",
       "</div>"
      ],
      "text/plain": [
       "        Levy   Manufacturer     Model   Category Leather interior Fuel type  \\\n",
       "2      779.0          HONDA       FIT  Hatchback               No    Petrol   \n",
       "3      862.0           FORD    Escape       Jeep              Yes    Hybrid   \n",
       "5      891.0        HYUNDAI  Santa FE       Jeep              Yes    Diesel   \n",
       "6      761.0         TOYOTA     Prius  Hatchback              Yes    Hybrid   \n",
       "7      751.0        HYUNDAI    Sonata      Sedan              Yes    Petrol   \n",
       "...      ...            ...       ...        ...              ...       ...   \n",
       "19230  645.0         TOYOTA     Prius  Hatchback              Yes    Hybrid   \n",
       "19232  779.0  MERCEDES-BENZ   CLK 200      Coupe              Yes       CNG   \n",
       "19233  831.0        HYUNDAI    Sonata      Sedan              Yes    Petrol   \n",
       "19234  836.0        HYUNDAI    Tucson       Jeep              Yes    Diesel   \n",
       "19236  753.0        HYUNDAI    Sonata      Sedan              Yes    Hybrid   \n",
       "\n",
       "       Engine volume  Mileage  Cylinders Gear box type Drive wheels  \\\n",
       "2                1.3   200000          4      Variator        Front   \n",
       "3                2.5   168966          4     Automatic          4x4   \n",
       "5                2.0   160931          4     Automatic        Front   \n",
       "6                1.8   258909          4     Automatic        Front   \n",
       "7                2.4   216118          4     Automatic        Front   \n",
       "...              ...      ...        ...           ...          ...   \n",
       "19230            1.8   307325          4     Automatic        Front   \n",
       "19232            2.0   300000          4        Manual         Rear   \n",
       "19233            2.4   161600          4     Tiptronic        Front   \n",
       "19234            2.0   116365          4     Automatic        Front   \n",
       "19236            2.4   186923          4     Automatic        Front   \n",
       "\n",
       "                  Wheel   Color  Airbags  Age  Has_Turbo  \n",
       "2      Right-hand drive   Black        2   19      False  \n",
       "3            Left wheel   White        0   14      False  \n",
       "5            Left wheel   White        4    9      False  \n",
       "6            Left wheel   White       12   15      False  \n",
       "7            Left wheel    Grey       12   12      False  \n",
       "...                 ...     ...      ...  ...        ...  \n",
       "19230        Left wheel  Silver       12   14      False  \n",
       "19232        Left wheel  Silver        5   26       True  \n",
       "19233        Left wheel     Red        8   14      False  \n",
       "19234        Left wheel    Grey        4   15      False  \n",
       "19236        Left wheel   White       12   13      False  \n",
       "\n",
       "[8732 rows x 16 columns]"
      ]
     },
     "execution_count": 58,
     "metadata": {},
     "output_type": "execute_result"
    }
   ],
   "source": [
    "col = [i for i in range(1,data.shape[1])]\n",
    "X = data.iloc[:,col]\n",
    "X"
   ]
  },
  {
   "cell_type": "markdown",
   "id": "74a03924",
   "metadata": {},
   "source": [
    "### Final cat and num features"
   ]
  },
  {
   "cell_type": "code",
   "execution_count": 59,
   "id": "6fdb9d4d",
   "metadata": {},
   "outputs": [
    {
     "name": "stdout",
     "output_type": "stream",
     "text": [
      "Numerical features:  ['Levy', 'Engine volume', 'Cylinders', 'Airbags', 'Age']\n",
      "\n",
      "Categorical features:  ['Manufacturer', 'Model', 'Category', 'Leather interior', 'Fuel type', 'Gear box type', 'Drive wheels', 'Wheel', 'Color']\n"
     ]
    }
   ],
   "source": [
    "#organize num and categorical features\n",
    "cat_features=[]\n",
    "num_features=[]\n",
    "for i in X.columns:\n",
    "    if X[i].dtype=='int64' or  X[i].dtype=='float':\n",
    "        num_features.append(i)\n",
    "    elif X[i].dtype=='object':\n",
    "        cat_features.append(i)\n",
    "\n",
    "print(\"Numerical features: \",num_features)\n",
    "print()\n",
    "print(\"Categorical features: \",cat_features)"
   ]
  },
  {
   "cell_type": "markdown",
   "id": "db9d71fd",
   "metadata": {},
   "source": [
    "## Feature selection"
   ]
  },
  {
   "cell_type": "markdown",
   "id": "92eab6a3",
   "metadata": {},
   "source": [
    "## 1. Correlation Analysis for numerical features"
   ]
  },
  {
   "cell_type": "code",
   "execution_count": 60,
   "id": "3ce1c668",
   "metadata": {},
   "outputs": [
    {
     "data": {
      "text/html": [
       "<div>\n",
       "<style scoped>\n",
       "    .dataframe tbody tr th:only-of-type {\n",
       "        vertical-align: middle;\n",
       "    }\n",
       "\n",
       "    .dataframe tbody tr th {\n",
       "        vertical-align: top;\n",
       "    }\n",
       "\n",
       "    .dataframe thead th {\n",
       "        text-align: right;\n",
       "    }\n",
       "</style>\n",
       "<table border=\"1\" class=\"dataframe\">\n",
       "  <thead>\n",
       "    <tr style=\"text-align: right;\">\n",
       "      <th></th>\n",
       "      <th>Levy</th>\n",
       "      <th>Engine volume</th>\n",
       "      <th>Cylinders</th>\n",
       "      <th>Airbags</th>\n",
       "      <th>Age</th>\n",
       "    </tr>\n",
       "  </thead>\n",
       "  <tbody>\n",
       "    <tr>\n",
       "      <th>Levy</th>\n",
       "      <td>100.000000</td>\n",
       "      <td>19.501152</td>\n",
       "      <td>NaN</td>\n",
       "      <td>-0.647319</td>\n",
       "      <td>4.477549</td>\n",
       "    </tr>\n",
       "    <tr>\n",
       "      <th>Engine volume</th>\n",
       "      <td>19.501152</td>\n",
       "      <td>100.000000</td>\n",
       "      <td>NaN</td>\n",
       "      <td>12.798156</td>\n",
       "      <td>-8.080803</td>\n",
       "    </tr>\n",
       "    <tr>\n",
       "      <th>Cylinders</th>\n",
       "      <td>NaN</td>\n",
       "      <td>NaN</td>\n",
       "      <td>NaN</td>\n",
       "      <td>NaN</td>\n",
       "      <td>NaN</td>\n",
       "    </tr>\n",
       "    <tr>\n",
       "      <th>Airbags</th>\n",
       "      <td>-0.647319</td>\n",
       "      <td>12.798156</td>\n",
       "      <td>NaN</td>\n",
       "      <td>100.000000</td>\n",
       "      <td>-24.202044</td>\n",
       "    </tr>\n",
       "    <tr>\n",
       "      <th>Age</th>\n",
       "      <td>4.477549</td>\n",
       "      <td>-8.080803</td>\n",
       "      <td>NaN</td>\n",
       "      <td>-24.202044</td>\n",
       "      <td>100.000000</td>\n",
       "    </tr>\n",
       "  </tbody>\n",
       "</table>\n",
       "</div>"
      ],
      "text/plain": [
       "                     Levy  Engine volume  Cylinders     Airbags         Age\n",
       "Levy           100.000000      19.501152        NaN   -0.647319    4.477549\n",
       "Engine volume   19.501152     100.000000        NaN   12.798156   -8.080803\n",
       "Cylinders             NaN            NaN        NaN         NaN         NaN\n",
       "Airbags         -0.647319      12.798156        NaN  100.000000  -24.202044\n",
       "Age              4.477549      -8.080803        NaN  -24.202044  100.000000"
      ]
     },
     "execution_count": 60,
     "metadata": {},
     "output_type": "execute_result"
    }
   ],
   "source": [
    "corr = X[num_features].corr()*100\n",
    "corr"
   ]
  },
  {
   "cell_type": "markdown",
   "id": "179fece8",
   "metadata": {},
   "source": [
    "#### Conclusion - \n",
    "Cylinders can be removed, as it has only 1 value , Removing Cylinders"
   ]
  },
  {
   "cell_type": "code",
   "execution_count": 61,
   "id": "1d5384d9",
   "metadata": {},
   "outputs": [
    {
     "name": "stderr",
     "output_type": "stream",
     "text": [
      "C:\\Users\\shamr\\anaconda3\\lib\\site-packages\\scipy\\stats\\_stats_py.py:4424: ConstantInputWarning: An input array is constant; the correlation coefficient is not defined.\n",
      "  warnings.warn(stats.ConstantInputWarning(msg))\n"
     ]
    }
   ],
   "source": [
    "# correlation analysis\n",
    "\n",
    "correlations = {}\n",
    "for col in num_features:\n",
    "    corr, _ = pearsonr(X[col], y)\n",
    "    correlations[col] = corr"
   ]
  },
  {
   "cell_type": "code",
   "execution_count": 62,
   "id": "41a2f49d",
   "metadata": {},
   "outputs": [
    {
     "data": {
      "text/plain": [
       "{'Levy': array([0.02636497404558653], dtype=object),\n",
       " 'Engine volume': array([0.1254882190885494], dtype=object),\n",
       " 'Cylinders': nan,\n",
       " 'Airbags': array([-0.1152523366238422], dtype=object),\n",
       " 'Age': array([-0.41772907286072697], dtype=object)}"
      ]
     },
     "execution_count": 62,
     "metadata": {},
     "output_type": "execute_result"
    }
   ],
   "source": [
    "correlations"
   ]
  },
  {
   "cell_type": "markdown",
   "id": "13136a4b",
   "metadata": {},
   "source": [
    "## 2.chisquare test for categorical "
   ]
  },
  {
   "cell_type": "code",
   "execution_count": 63,
   "id": "830ee646",
   "metadata": {},
   "outputs": [
    {
     "name": "stdout",
     "output_type": "stream",
     "text": [
      "\n",
      "Chi-Square Test:\n",
      "Manufacturer: chi2=37721.4711, p-value=0.0000\n",
      "Model: chi2=824925.3334, p-value=1.0000\n",
      "Category: chi2=18159.3435, p-value=0.0000\n",
      "Leather interior: chi2=3226.7613, p-value=0.0000\n",
      "Fuel type: chi2=10216.3101, p-value=0.0000\n",
      "Gear box type: chi2=4905.2134, p-value=0.0000\n",
      "Drive wheels: chi2=2890.3500, p-value=0.9301\n",
      "Wheel: chi2=2568.5590, p-value=0.0000\n",
      "Color: chi2=19148.1960, p-value=1.0000\n"
     ]
    }
   ],
   "source": [
    "# Chi-Square Test\n",
    "chi2_result = {}\n",
    "\n",
    "for col in cat_features:\n",
    "    contingency_table = pd.crosstab(X[col], y['Price'])\n",
    "    chi2,p,_,_ = chi2_contingency(contingency_table)\n",
    "    chi2_result[col]= (chi2, p)    \n",
    "\n",
    "print(\"\\nChi-Square Test:\")\n",
    "for key, value in chi2_result.items():\n",
    "    print(f\"{key}: chi2={value[0]:.4f}, p-value={value[1]:.4f}\")"
   ]
  },
  {
   "cell_type": "markdown",
   "id": "d74db78f",
   "metadata": {},
   "source": [
    "#### Conclusion - \n",
    "Color, Drive wheels, Model has no relationship with price label (Accepting Null Hypothesis) , so it can be removed"
   ]
  },
  {
   "cell_type": "markdown",
   "id": "e8ce919c",
   "metadata": {},
   "source": [
    "## 3. Anova test - to test categorical variables"
   ]
  },
  {
   "cell_type": "code",
   "execution_count": 64,
   "id": "c6f7e8bc",
   "metadata": {},
   "outputs": [
    {
     "name": "stdout",
     "output_type": "stream",
     "text": [
      "\n",
      "ANOVA Test:\n",
      "Manufacturer: F = [92.7691889], p-value = [0.]\n",
      "Model: F = [7.94680355], p-value = [0.]\n",
      "Category: F = [189.48595315], p-value = [0.]\n",
      "Leather interior: F = [326.87610526], p-value = [9.28411762e-72]\n",
      "Fuel type: F = [355.2696598], p-value = [0.]\n",
      "Gear box type: F = [69.7040332], p-value = [1.53602358e-44]\n",
      "Drive wheels: F = [15.05301629], p-value = [2.97718584e-07]\n",
      "Wheel: F = [555.37765113], p-value = [4.21007925e-119]\n",
      "Color: F = [13.24063142], p-value = [1.07795114e-33]\n"
     ]
    }
   ],
   "source": [
    "# ANOVA Test\n",
    "anova_results = {}\n",
    "for col in cat_features:\n",
    "    categories = X[col].unique()\n",
    "    groups = [y[X[col]==category] for category in categories]\n",
    "    f_val, p_val = f_oneway(*groups)\n",
    "    anova_results[col] = (f_val, p_val)\n",
    "\n",
    "print(\"\\nANOVA Test:\")\n",
    "for key, value in anova_results.items():\n",
    "    print(f\"{key}: F = {value[0]}, p-value = {value[1]}\")"
   ]
  },
  {
   "cell_type": "code",
   "execution_count": 65,
   "id": "417227fc",
   "metadata": {},
   "outputs": [],
   "source": [
    "# drop model, color , drive wheels , cylinders as it has high p values"
   ]
  },
  {
   "cell_type": "code",
   "execution_count": 66,
   "id": "c409c523",
   "metadata": {},
   "outputs": [
    {
     "data": {
      "text/html": [
       "<div>\n",
       "<style scoped>\n",
       "    .dataframe tbody tr th:only-of-type {\n",
       "        vertical-align: middle;\n",
       "    }\n",
       "\n",
       "    .dataframe tbody tr th {\n",
       "        vertical-align: top;\n",
       "    }\n",
       "\n",
       "    .dataframe thead th {\n",
       "        text-align: right;\n",
       "    }\n",
       "</style>\n",
       "<table border=\"1\" class=\"dataframe\">\n",
       "  <thead>\n",
       "    <tr style=\"text-align: right;\">\n",
       "      <th></th>\n",
       "      <th>Levy</th>\n",
       "      <th>Manufacturer</th>\n",
       "      <th>Category</th>\n",
       "      <th>Leather interior</th>\n",
       "      <th>Fuel type</th>\n",
       "      <th>Engine volume</th>\n",
       "      <th>Mileage</th>\n",
       "      <th>Gear box type</th>\n",
       "      <th>Wheel</th>\n",
       "      <th>Airbags</th>\n",
       "      <th>Age</th>\n",
       "      <th>Has_Turbo</th>\n",
       "    </tr>\n",
       "  </thead>\n",
       "  <tbody>\n",
       "    <tr>\n",
       "      <th>2</th>\n",
       "      <td>779.0</td>\n",
       "      <td>HONDA</td>\n",
       "      <td>Hatchback</td>\n",
       "      <td>No</td>\n",
       "      <td>Petrol</td>\n",
       "      <td>1.3</td>\n",
       "      <td>200000</td>\n",
       "      <td>Variator</td>\n",
       "      <td>Right-hand drive</td>\n",
       "      <td>2</td>\n",
       "      <td>19</td>\n",
       "      <td>False</td>\n",
       "    </tr>\n",
       "    <tr>\n",
       "      <th>3</th>\n",
       "      <td>862.0</td>\n",
       "      <td>FORD</td>\n",
       "      <td>Jeep</td>\n",
       "      <td>Yes</td>\n",
       "      <td>Hybrid</td>\n",
       "      <td>2.5</td>\n",
       "      <td>168966</td>\n",
       "      <td>Automatic</td>\n",
       "      <td>Left wheel</td>\n",
       "      <td>0</td>\n",
       "      <td>14</td>\n",
       "      <td>False</td>\n",
       "    </tr>\n",
       "  </tbody>\n",
       "</table>\n",
       "</div>"
      ],
      "text/plain": [
       "    Levy Manufacturer   Category Leather interior Fuel type  Engine volume  \\\n",
       "2  779.0        HONDA  Hatchback               No    Petrol            1.3   \n",
       "3  862.0         FORD       Jeep              Yes    Hybrid            2.5   \n",
       "\n",
       "   Mileage Gear box type             Wheel  Airbags  Age  Has_Turbo  \n",
       "2   200000      Variator  Right-hand drive        2   19      False  \n",
       "3   168966     Automatic        Left wheel        0   14      False  "
      ]
     },
     "execution_count": 66,
     "metadata": {},
     "output_type": "execute_result"
    }
   ],
   "source": [
    "X = X.drop(['Model','Color','Drive wheels','Cylinders'],axis=1)\n",
    "X.head(2)"
   ]
  },
  {
   "cell_type": "code",
   "execution_count": 67,
   "id": "c9d47615",
   "metadata": {},
   "outputs": [
    {
     "name": "stdout",
     "output_type": "stream",
     "text": [
      "Numerical features:  ['Levy', 'Engine volume', 'Airbags', 'Age']\n",
      "\n",
      "Categorical features:  ['Manufacturer', 'Category', 'Leather interior', 'Fuel type', 'Gear box type', 'Wheel']\n"
     ]
    }
   ],
   "source": [
    "#organize num and categorical features\n",
    "cat_features=[]\n",
    "num_features=[]\n",
    "for i in X.columns:\n",
    "    if X[i].dtype=='int64' or  X[i].dtype=='float':\n",
    "        num_features.append(i)\n",
    "    elif X[i].dtype=='object':\n",
    "        cat_features.append(i)\n",
    "\n",
    "print(\"Numerical features: \",num_features)\n",
    "print()\n",
    "print(\"Categorical features: \",cat_features)"
   ]
  },
  {
   "cell_type": "markdown",
   "id": "0e3ca8a8",
   "metadata": {},
   "source": [
    "## Column Transformer to transform for classic Regression models"
   ]
  },
  {
   "cell_type": "code",
   "execution_count": 68,
   "id": "fd6c6df4",
   "metadata": {},
   "outputs": [],
   "source": [
    "preprocessor = ColumnTransformer([\n",
    "    ('num',StandardScaler(),num_features),\n",
    "    ('cat',OneHotEncoder(),cat_features)\n",
    "])\n",
    "\n",
    "#transformed_data = preprocessor.fit_transform(X)\n",
    "transformed_data = preprocessor.fit_transform(X).toarray()"
   ]
  },
  {
   "cell_type": "code",
   "execution_count": 69,
   "id": "f4f52b18",
   "metadata": {},
   "outputs": [
    {
     "data": {
      "text/plain": [
       "array([[ 0.18565201, -1.77533295, -1.11493802, ...,  1.        ,\n",
       "         0.        ,  1.        ],\n",
       "       [ 1.0600503 ,  1.61072227, -1.64331656, ...,  0.        ,\n",
       "         1.        ,  0.        ],\n",
       "       [ 1.36556296,  0.19986593, -0.58655948, ...,  0.        ,\n",
       "         1.        ,  0.        ],\n",
       "       ...,\n",
       "       [ 0.73346781,  1.328551  ,  0.4701976 , ...,  0.        ,\n",
       "         1.        ,  0.        ],\n",
       "       [ 0.7861424 ,  0.19986593, -0.58655948, ...,  0.        ,\n",
       "         1.        ,  0.        ],\n",
       "       [-0.08825589,  1.328551  ,  1.52695468, ...,  0.        ,\n",
       "         1.        ,  0.        ]])"
      ]
     },
     "execution_count": 69,
     "metadata": {},
     "output_type": "execute_result"
    }
   ],
   "source": [
    "transformed_data"
   ]
  },
  {
   "cell_type": "code",
   "execution_count": 70,
   "id": "81008700",
   "metadata": {},
   "outputs": [],
   "source": [
    "# Get new column names\n",
    "cat_columns = preprocessor.named_transformers_['cat'].get_feature_names_out(cat_features)\n",
    "num_columns = num_features\n",
    "all_columns = np.concatenate([num_columns,cat_columns])\n",
    "\n",
    "\n",
    "# Convert to DataFrame\n",
    "transformed_df = pd.DataFrame(transformed_data, columns=all_columns)"
   ]
  },
  {
   "cell_type": "code",
   "execution_count": 71,
   "id": "051b453f",
   "metadata": {},
   "outputs": [
    {
     "data": {
      "text/html": [
       "<div>\n",
       "<style scoped>\n",
       "    .dataframe tbody tr th:only-of-type {\n",
       "        vertical-align: middle;\n",
       "    }\n",
       "\n",
       "    .dataframe tbody tr th {\n",
       "        vertical-align: top;\n",
       "    }\n",
       "\n",
       "    .dataframe thead th {\n",
       "        text-align: right;\n",
       "    }\n",
       "</style>\n",
       "<table border=\"1\" class=\"dataframe\">\n",
       "  <thead>\n",
       "    <tr style=\"text-align: right;\">\n",
       "      <th></th>\n",
       "      <th>Levy</th>\n",
       "      <th>Engine volume</th>\n",
       "      <th>Airbags</th>\n",
       "      <th>Age</th>\n",
       "      <th>Manufacturer_AUDI</th>\n",
       "      <th>Manufacturer_BMW</th>\n",
       "      <th>Manufacturer_CHEVROLET</th>\n",
       "      <th>Manufacturer_DAEWOO</th>\n",
       "      <th>Manufacturer_FORD</th>\n",
       "      <th>Manufacturer_HONDA</th>\n",
       "      <th>...</th>\n",
       "      <th>Fuel type_Hybrid</th>\n",
       "      <th>Fuel type_LPG</th>\n",
       "      <th>Fuel type_Petrol</th>\n",
       "      <th>Fuel type_Plug-in Hybrid</th>\n",
       "      <th>Gear box type_Automatic</th>\n",
       "      <th>Gear box type_Manual</th>\n",
       "      <th>Gear box type_Tiptronic</th>\n",
       "      <th>Gear box type_Variator</th>\n",
       "      <th>Wheel_Left wheel</th>\n",
       "      <th>Wheel_Right-hand drive</th>\n",
       "    </tr>\n",
       "  </thead>\n",
       "  <tbody>\n",
       "    <tr>\n",
       "      <th>0</th>\n",
       "      <td>0.185652</td>\n",
       "      <td>-1.775333</td>\n",
       "      <td>-1.114938</td>\n",
       "      <td>1.157139</td>\n",
       "      <td>0.0</td>\n",
       "      <td>0.0</td>\n",
       "      <td>0.0</td>\n",
       "      <td>0.0</td>\n",
       "      <td>0.0</td>\n",
       "      <td>1.0</td>\n",
       "      <td>...</td>\n",
       "      <td>0.0</td>\n",
       "      <td>0.0</td>\n",
       "      <td>1.0</td>\n",
       "      <td>0.0</td>\n",
       "      <td>0.0</td>\n",
       "      <td>0.0</td>\n",
       "      <td>0.0</td>\n",
       "      <td>1.0</td>\n",
       "      <td>0.0</td>\n",
       "      <td>1.0</td>\n",
       "    </tr>\n",
       "    <tr>\n",
       "      <th>1</th>\n",
       "      <td>1.060050</td>\n",
       "      <td>1.610722</td>\n",
       "      <td>-1.643317</td>\n",
       "      <td>0.038979</td>\n",
       "      <td>0.0</td>\n",
       "      <td>0.0</td>\n",
       "      <td>0.0</td>\n",
       "      <td>0.0</td>\n",
       "      <td>1.0</td>\n",
       "      <td>0.0</td>\n",
       "      <td>...</td>\n",
       "      <td>1.0</td>\n",
       "      <td>0.0</td>\n",
       "      <td>0.0</td>\n",
       "      <td>0.0</td>\n",
       "      <td>1.0</td>\n",
       "      <td>0.0</td>\n",
       "      <td>0.0</td>\n",
       "      <td>0.0</td>\n",
       "      <td>1.0</td>\n",
       "      <td>0.0</td>\n",
       "    </tr>\n",
       "    <tr>\n",
       "      <th>2</th>\n",
       "      <td>1.365563</td>\n",
       "      <td>0.199866</td>\n",
       "      <td>-0.586559</td>\n",
       "      <td>-1.079180</td>\n",
       "      <td>0.0</td>\n",
       "      <td>0.0</td>\n",
       "      <td>0.0</td>\n",
       "      <td>0.0</td>\n",
       "      <td>0.0</td>\n",
       "      <td>0.0</td>\n",
       "      <td>...</td>\n",
       "      <td>0.0</td>\n",
       "      <td>0.0</td>\n",
       "      <td>0.0</td>\n",
       "      <td>0.0</td>\n",
       "      <td>1.0</td>\n",
       "      <td>0.0</td>\n",
       "      <td>0.0</td>\n",
       "      <td>0.0</td>\n",
       "      <td>1.0</td>\n",
       "      <td>0.0</td>\n",
       "    </tr>\n",
       "    <tr>\n",
       "      <th>3</th>\n",
       "      <td>-0.003977</td>\n",
       "      <td>-0.364477</td>\n",
       "      <td>1.526955</td>\n",
       "      <td>0.262611</td>\n",
       "      <td>0.0</td>\n",
       "      <td>0.0</td>\n",
       "      <td>0.0</td>\n",
       "      <td>0.0</td>\n",
       "      <td>0.0</td>\n",
       "      <td>0.0</td>\n",
       "      <td>...</td>\n",
       "      <td>1.0</td>\n",
       "      <td>0.0</td>\n",
       "      <td>0.0</td>\n",
       "      <td>0.0</td>\n",
       "      <td>1.0</td>\n",
       "      <td>0.0</td>\n",
       "      <td>0.0</td>\n",
       "      <td>0.0</td>\n",
       "      <td>1.0</td>\n",
       "      <td>0.0</td>\n",
       "    </tr>\n",
       "    <tr>\n",
       "      <th>4</th>\n",
       "      <td>-0.109326</td>\n",
       "      <td>1.328551</td>\n",
       "      <td>1.526955</td>\n",
       "      <td>-0.408285</td>\n",
       "      <td>0.0</td>\n",
       "      <td>0.0</td>\n",
       "      <td>0.0</td>\n",
       "      <td>0.0</td>\n",
       "      <td>0.0</td>\n",
       "      <td>0.0</td>\n",
       "      <td>...</td>\n",
       "      <td>0.0</td>\n",
       "      <td>0.0</td>\n",
       "      <td>1.0</td>\n",
       "      <td>0.0</td>\n",
       "      <td>1.0</td>\n",
       "      <td>0.0</td>\n",
       "      <td>0.0</td>\n",
       "      <td>0.0</td>\n",
       "      <td>1.0</td>\n",
       "      <td>0.0</td>\n",
       "    </tr>\n",
       "  </tbody>\n",
       "</table>\n",
       "<p>5 rows × 48 columns</p>\n",
       "</div>"
      ],
      "text/plain": [
       "       Levy  Engine volume   Airbags       Age  Manufacturer_AUDI  \\\n",
       "0  0.185652      -1.775333 -1.114938  1.157139                0.0   \n",
       "1  1.060050       1.610722 -1.643317  0.038979                0.0   \n",
       "2  1.365563       0.199866 -0.586559 -1.079180                0.0   \n",
       "3 -0.003977      -0.364477  1.526955  0.262611                0.0   \n",
       "4 -0.109326       1.328551  1.526955 -0.408285                0.0   \n",
       "\n",
       "   Manufacturer_BMW  Manufacturer_CHEVROLET  Manufacturer_DAEWOO  \\\n",
       "0               0.0                     0.0                  0.0   \n",
       "1               0.0                     0.0                  0.0   \n",
       "2               0.0                     0.0                  0.0   \n",
       "3               0.0                     0.0                  0.0   \n",
       "4               0.0                     0.0                  0.0   \n",
       "\n",
       "   Manufacturer_FORD  Manufacturer_HONDA  ...  Fuel type_Hybrid  \\\n",
       "0                0.0                 1.0  ...               0.0   \n",
       "1                1.0                 0.0  ...               1.0   \n",
       "2                0.0                 0.0  ...               0.0   \n",
       "3                0.0                 0.0  ...               1.0   \n",
       "4                0.0                 0.0  ...               0.0   \n",
       "\n",
       "   Fuel type_LPG  Fuel type_Petrol  Fuel type_Plug-in Hybrid  \\\n",
       "0            0.0               1.0                       0.0   \n",
       "1            0.0               0.0                       0.0   \n",
       "2            0.0               0.0                       0.0   \n",
       "3            0.0               0.0                       0.0   \n",
       "4            0.0               1.0                       0.0   \n",
       "\n",
       "   Gear box type_Automatic  Gear box type_Manual  Gear box type_Tiptronic  \\\n",
       "0                      0.0                   0.0                      0.0   \n",
       "1                      1.0                   0.0                      0.0   \n",
       "2                      1.0                   0.0                      0.0   \n",
       "3                      1.0                   0.0                      0.0   \n",
       "4                      1.0                   0.0                      0.0   \n",
       "\n",
       "   Gear box type_Variator  Wheel_Left wheel  Wheel_Right-hand drive  \n",
       "0                     1.0               0.0                     1.0  \n",
       "1                     0.0               1.0                     0.0  \n",
       "2                     0.0               1.0                     0.0  \n",
       "3                     0.0               1.0                     0.0  \n",
       "4                     0.0               1.0                     0.0  \n",
       "\n",
       "[5 rows x 48 columns]"
      ]
     },
     "execution_count": 71,
     "metadata": {},
     "output_type": "execute_result"
    }
   ],
   "source": [
    "transformed_df.head()"
   ]
  },
  {
   "cell_type": "code",
   "execution_count": 72,
   "id": "bf5c2862",
   "metadata": {},
   "outputs": [
    {
     "data": {
      "text/plain": [
       "array([[-0.70589024],\n",
       "       [-1.1519292 ],\n",
       "       [ 2.14160042],\n",
       "       ...,\n",
       "       [-0.04380691],\n",
       "       [ 0.91315774],\n",
       "       [-1.43983541]])"
      ]
     },
     "execution_count": 72,
     "metadata": {},
     "output_type": "execute_result"
    }
   ],
   "source": [
    "#y data \n",
    "scaler = StandardScaler()\n",
    "y = scaler.fit_transform(y)\n",
    "y"
   ]
  },
  {
   "cell_type": "markdown",
   "id": "bef3e238",
   "metadata": {},
   "source": [
    "## Train test split "
   ]
  },
  {
   "cell_type": "code",
   "execution_count": 73,
   "id": "c976c6e0",
   "metadata": {},
   "outputs": [
    {
     "name": "stdout",
     "output_type": "stream",
     "text": [
      "X train :  (6549, 48)\n",
      "X test :  (2183, 48)\n",
      "y train :  (6549, 1)\n",
      "y test :  (2183, 1)\n"
     ]
    }
   ],
   "source": [
    "X_train, X_test, y_train, y_test = train_test_split(transformed_df,y,test_size=0.25,random_state=42)\n",
    "print(\"X train : \",X_train.shape)\n",
    "print(\"X test : \",X_test.shape)\n",
    "print(\"y train : \",y_train.shape)\n",
    "print(\"y test : \",y_test.shape)"
   ]
  },
  {
   "cell_type": "code",
   "execution_count": 74,
   "id": "f8667675",
   "metadata": {},
   "outputs": [
    {
     "data": {
      "text/html": [
       "<div>\n",
       "<style scoped>\n",
       "    .dataframe tbody tr th:only-of-type {\n",
       "        vertical-align: middle;\n",
       "    }\n",
       "\n",
       "    .dataframe tbody tr th {\n",
       "        vertical-align: top;\n",
       "    }\n",
       "\n",
       "    .dataframe thead th {\n",
       "        text-align: right;\n",
       "    }\n",
       "</style>\n",
       "<table border=\"1\" class=\"dataframe\">\n",
       "  <thead>\n",
       "    <tr style=\"text-align: right;\">\n",
       "      <th></th>\n",
       "      <th>Levy</th>\n",
       "      <th>Engine volume</th>\n",
       "      <th>Airbags</th>\n",
       "      <th>Age</th>\n",
       "      <th>Manufacturer_AUDI</th>\n",
       "      <th>Manufacturer_BMW</th>\n",
       "      <th>Manufacturer_CHEVROLET</th>\n",
       "      <th>Manufacturer_DAEWOO</th>\n",
       "      <th>Manufacturer_FORD</th>\n",
       "      <th>Manufacturer_HONDA</th>\n",
       "      <th>...</th>\n",
       "      <th>Fuel type_Hybrid</th>\n",
       "      <th>Fuel type_LPG</th>\n",
       "      <th>Fuel type_Petrol</th>\n",
       "      <th>Fuel type_Plug-in Hybrid</th>\n",
       "      <th>Gear box type_Automatic</th>\n",
       "      <th>Gear box type_Manual</th>\n",
       "      <th>Gear box type_Tiptronic</th>\n",
       "      <th>Gear box type_Variator</th>\n",
       "      <th>Wheel_Left wheel</th>\n",
       "      <th>Wheel_Right-hand drive</th>\n",
       "    </tr>\n",
       "  </thead>\n",
       "  <tbody>\n",
       "    <tr>\n",
       "      <th>6985</th>\n",
       "      <td>-1.879192</td>\n",
       "      <td>-0.928819</td>\n",
       "      <td>-0.586559</td>\n",
       "      <td>0.038979</td>\n",
       "      <td>0.0</td>\n",
       "      <td>0.0</td>\n",
       "      <td>0.0</td>\n",
       "      <td>0.0</td>\n",
       "      <td>0.0</td>\n",
       "      <td>0.0</td>\n",
       "      <td>...</td>\n",
       "      <td>0.0</td>\n",
       "      <td>0.0</td>\n",
       "      <td>1.0</td>\n",
       "      <td>0.0</td>\n",
       "      <td>1.0</td>\n",
       "      <td>0.0</td>\n",
       "      <td>0.0</td>\n",
       "      <td>0.0</td>\n",
       "      <td>1.0</td>\n",
       "      <td>0.0</td>\n",
       "    </tr>\n",
       "    <tr>\n",
       "      <th>3847</th>\n",
       "      <td>0.185652</td>\n",
       "      <td>-1.210990</td>\n",
       "      <td>0.998576</td>\n",
       "      <td>-0.184653</td>\n",
       "      <td>0.0</td>\n",
       "      <td>0.0</td>\n",
       "      <td>0.0</td>\n",
       "      <td>0.0</td>\n",
       "      <td>0.0</td>\n",
       "      <td>0.0</td>\n",
       "      <td>...</td>\n",
       "      <td>1.0</td>\n",
       "      <td>0.0</td>\n",
       "      <td>0.0</td>\n",
       "      <td>0.0</td>\n",
       "      <td>0.0</td>\n",
       "      <td>0.0</td>\n",
       "      <td>0.0</td>\n",
       "      <td>1.0</td>\n",
       "      <td>1.0</td>\n",
       "      <td>0.0</td>\n",
       "    </tr>\n",
       "    <tr>\n",
       "      <th>198</th>\n",
       "      <td>0.206722</td>\n",
       "      <td>-1.493162</td>\n",
       "      <td>0.470198</td>\n",
       "      <td>-1.526444</td>\n",
       "      <td>0.0</td>\n",
       "      <td>0.0</td>\n",
       "      <td>1.0</td>\n",
       "      <td>0.0</td>\n",
       "      <td>0.0</td>\n",
       "      <td>0.0</td>\n",
       "      <td>...</td>\n",
       "      <td>0.0</td>\n",
       "      <td>0.0</td>\n",
       "      <td>1.0</td>\n",
       "      <td>0.0</td>\n",
       "      <td>1.0</td>\n",
       "      <td>0.0</td>\n",
       "      <td>0.0</td>\n",
       "      <td>0.0</td>\n",
       "      <td>1.0</td>\n",
       "      <td>0.0</td>\n",
       "    </tr>\n",
       "    <tr>\n",
       "      <th>7828</th>\n",
       "      <td>0.185652</td>\n",
       "      <td>-0.928819</td>\n",
       "      <td>0.470198</td>\n",
       "      <td>-0.184653</td>\n",
       "      <td>0.0</td>\n",
       "      <td>0.0</td>\n",
       "      <td>0.0</td>\n",
       "      <td>0.0</td>\n",
       "      <td>0.0</td>\n",
       "      <td>0.0</td>\n",
       "      <td>...</td>\n",
       "      <td>0.0</td>\n",
       "      <td>0.0</td>\n",
       "      <td>1.0</td>\n",
       "      <td>0.0</td>\n",
       "      <td>0.0</td>\n",
       "      <td>0.0</td>\n",
       "      <td>1.0</td>\n",
       "      <td>0.0</td>\n",
       "      <td>1.0</td>\n",
       "      <td>0.0</td>\n",
       "    </tr>\n",
       "    <tr>\n",
       "      <th>1097</th>\n",
       "      <td>0.185652</td>\n",
       "      <td>-0.364477</td>\n",
       "      <td>1.526955</td>\n",
       "      <td>0.486243</td>\n",
       "      <td>0.0</td>\n",
       "      <td>0.0</td>\n",
       "      <td>0.0</td>\n",
       "      <td>0.0</td>\n",
       "      <td>0.0</td>\n",
       "      <td>0.0</td>\n",
       "      <td>...</td>\n",
       "      <td>1.0</td>\n",
       "      <td>0.0</td>\n",
       "      <td>0.0</td>\n",
       "      <td>0.0</td>\n",
       "      <td>1.0</td>\n",
       "      <td>0.0</td>\n",
       "      <td>0.0</td>\n",
       "      <td>0.0</td>\n",
       "      <td>1.0</td>\n",
       "      <td>0.0</td>\n",
       "    </tr>\n",
       "  </tbody>\n",
       "</table>\n",
       "<p>5 rows × 48 columns</p>\n",
       "</div>"
      ],
      "text/plain": [
       "          Levy  Engine volume   Airbags       Age  Manufacturer_AUDI  \\\n",
       "6985 -1.879192      -0.928819 -0.586559  0.038979                0.0   \n",
       "3847  0.185652      -1.210990  0.998576 -0.184653                0.0   \n",
       "198   0.206722      -1.493162  0.470198 -1.526444                0.0   \n",
       "7828  0.185652      -0.928819  0.470198 -0.184653                0.0   \n",
       "1097  0.185652      -0.364477  1.526955  0.486243                0.0   \n",
       "\n",
       "      Manufacturer_BMW  Manufacturer_CHEVROLET  Manufacturer_DAEWOO  \\\n",
       "6985               0.0                     0.0                  0.0   \n",
       "3847               0.0                     0.0                  0.0   \n",
       "198                0.0                     1.0                  0.0   \n",
       "7828               0.0                     0.0                  0.0   \n",
       "1097               0.0                     0.0                  0.0   \n",
       "\n",
       "      Manufacturer_FORD  Manufacturer_HONDA  ...  Fuel type_Hybrid  \\\n",
       "6985                0.0                 0.0  ...               0.0   \n",
       "3847                0.0                 0.0  ...               1.0   \n",
       "198                 0.0                 0.0  ...               0.0   \n",
       "7828                0.0                 0.0  ...               0.0   \n",
       "1097                0.0                 0.0  ...               1.0   \n",
       "\n",
       "      Fuel type_LPG  Fuel type_Petrol  Fuel type_Plug-in Hybrid  \\\n",
       "6985            0.0               1.0                       0.0   \n",
       "3847            0.0               0.0                       0.0   \n",
       "198             0.0               1.0                       0.0   \n",
       "7828            0.0               1.0                       0.0   \n",
       "1097            0.0               0.0                       0.0   \n",
       "\n",
       "      Gear box type_Automatic  Gear box type_Manual  Gear box type_Tiptronic  \\\n",
       "6985                      1.0                   0.0                      0.0   \n",
       "3847                      0.0                   0.0                      0.0   \n",
       "198                       1.0                   0.0                      0.0   \n",
       "7828                      0.0                   0.0                      1.0   \n",
       "1097                      1.0                   0.0                      0.0   \n",
       "\n",
       "      Gear box type_Variator  Wheel_Left wheel  Wheel_Right-hand drive  \n",
       "6985                     0.0               1.0                     0.0  \n",
       "3847                     1.0               1.0                     0.0  \n",
       "198                      0.0               1.0                     0.0  \n",
       "7828                     0.0               1.0                     0.0  \n",
       "1097                     0.0               1.0                     0.0  \n",
       "\n",
       "[5 rows x 48 columns]"
      ]
     },
     "execution_count": 74,
     "metadata": {},
     "output_type": "execute_result"
    }
   ],
   "source": [
    "X_train.head()"
   ]
  },
  {
   "cell_type": "markdown",
   "id": "5df232ef",
   "metadata": {},
   "source": [
    "## Model Building"
   ]
  },
  {
   "cell_type": "markdown",
   "id": "43a30094",
   "metadata": {},
   "source": [
    "## Linear Regression"
   ]
  },
  {
   "cell_type": "code",
   "execution_count": 75,
   "id": "c4d62c63",
   "metadata": {},
   "outputs": [],
   "source": [
    "model = LinearRegression()\n",
    "model.fit(X_train, y_train)\n",
    "\n",
    "# Make predictions\n",
    "\n",
    "y_pred = model.predict(X_test)"
   ]
  },
  {
   "cell_type": "code",
   "execution_count": 76,
   "id": "1330843a",
   "metadata": {},
   "outputs": [
    {
     "name": "stdout",
     "output_type": "stream",
     "text": [
      "Mean Absolute Error: 0.55\n",
      "Mean Squared Error: 0.51\n",
      "R² Score: 0.49\n"
     ]
    }
   ],
   "source": [
    "# Model evaluation\n",
    "print(f\"Mean Absolute Error: {mean_absolute_error(y_test, y_pred):.2f}\")\n",
    "print(f\"Mean Squared Error: {mean_squared_error(y_test, y_pred):.2f}\")\n",
    "print(f\"R² Score: {r2_score(y_test, y_pred):.2f}\")"
   ]
  },
  {
   "cell_type": "markdown",
   "id": "f8a44f86",
   "metadata": {},
   "source": [
    "## KNN  Regression"
   ]
  },
  {
   "cell_type": "code",
   "execution_count": 77,
   "id": "e60f8c73",
   "metadata": {},
   "outputs": [],
   "source": [
    "knn = KNeighborsRegressor(n_neighbors=3)\n",
    "\n",
    "# Train the model\n",
    "knn.fit(X_train, y_train)\n",
    "\n",
    "# Make predictions\n",
    "y_pred = knn.predict(X_test)\n",
    "y_train_pred = knn.predict(X_train)\n"
   ]
  },
  {
   "cell_type": "code",
   "execution_count": 78,
   "id": "260ec2a9",
   "metadata": {},
   "outputs": [
    {
     "name": "stdout",
     "output_type": "stream",
     "text": [
      "Mean Absolute Error: 0.40\n",
      "Mean Squared Error: 0.34\n",
      "Trainings R² Score: 0.80\n",
      "R² Score: 0.65\n"
     ]
    }
   ],
   "source": [
    "# Model evaluation\n",
    "print(f\"Mean Absolute Error: {mean_absolute_error(y_test, y_pred):.2f}\")\n",
    "print(f\"Mean Squared Error: {mean_squared_error(y_test, y_pred):.2f}\")\n",
    "print(f\"Trainings R² Score: {r2_score(y_train, y_train_pred):.2f}\")\n",
    "print(f\"R² Score: {r2_score(y_test, y_pred):.2f}\")"
   ]
  },
  {
   "cell_type": "markdown",
   "id": "2ce6d5c1",
   "metadata": {},
   "source": [
    "## SVR"
   ]
  },
  {
   "cell_type": "code",
   "execution_count": 79,
   "id": "c90c4529",
   "metadata": {},
   "outputs": [
    {
     "name": "stderr",
     "output_type": "stream",
     "text": [
      "C:\\Users\\shamr\\anaconda3\\lib\\site-packages\\sklearn\\utils\\validation.py:1339: DataConversionWarning: A column-vector y was passed when a 1d array was expected. Please change the shape of y to (n_samples, ), for example using ravel().\n",
      "  y = column_or_1d(y, warn=True)\n"
     ]
    }
   ],
   "source": [
    "svr = SVR(kernel='rbf', C=100, epsilon=1.0, gamma=0.1)\n",
    "\n",
    "# Train the model\n",
    "svr.fit(X_train, y_train)\n",
    "\n",
    "# Make predictions\n",
    "y_pred = svr.predict(X_test)\n"
   ]
  },
  {
   "cell_type": "code",
   "execution_count": 80,
   "id": "c35ecca1",
   "metadata": {},
   "outputs": [
    {
     "name": "stdout",
     "output_type": "stream",
     "text": [
      "Mean Absolute Error: 0.51\n",
      "Mean Squared Error: 0.42\n",
      "R² Score: 0.57\n"
     ]
    }
   ],
   "source": [
    "# Model evaluation\n",
    "print(f\"Mean Absolute Error: {mean_absolute_error(y_test, y_pred):.2f}\")\n",
    "print(f\"Mean Squared Error: {mean_squared_error(y_test, y_pred):.2f}\")\n",
    "print(f\"R² Score: {r2_score(y_test, y_pred):.2f}\")"
   ]
  },
  {
   "cell_type": "markdown",
   "id": "9f4d11b8",
   "metadata": {},
   "source": [
    "## ML Pipeline"
   ]
  },
  {
   "cell_type": "code",
   "execution_count": 81,
   "id": "3ebc3cbc",
   "metadata": {},
   "outputs": [
    {
     "name": "stdout",
     "output_type": "stream",
     "text": [
      "Fitting 5 folds for each of 36 candidates, totalling 180 fits\n"
     ]
    },
    {
     "name": "stderr",
     "output_type": "stream",
     "text": [
      "C:\\Users\\shamr\\anaconda3\\lib\\site-packages\\sklearn\\ensemble\\_gb.py:668: DataConversionWarning: A column-vector y was passed when a 1d array was expected. Please change the shape of y to (n_samples, ), for example using ravel().\n",
      "  y = column_or_1d(y, warn=True)  # TODO: Is this still required?\n"
     ]
    },
    {
     "name": "stdout",
     "output_type": "stream",
     "text": [
      "Linear Regression:\n",
      "Mean Squared Erorr : 0.5057411778463817\n",
      "R^2 SCORE : 0.4863091613584547\n",
      "\n"
     ]
    },
    {
     "name": "stderr",
     "output_type": "stream",
     "text": [
      "C:\\Users\\shamr\\anaconda3\\lib\\site-packages\\sklearn\\utils\\validation.py:1339: DataConversionWarning: A column-vector y was passed when a 1d array was expected. Please change the shape of y to (n_samples, ), for example using ravel().\n",
      "  y = column_or_1d(y, warn=True)\n"
     ]
    },
    {
     "name": "stdout",
     "output_type": "stream",
     "text": [
      "Adaboost Regressor:\n",
      "Mean Squared Erorr : 0.5586569612619291\n",
      "R^2 SCORE : 0.4325616036138813\n",
      "\n"
     ]
    },
    {
     "name": "stderr",
     "output_type": "stream",
     "text": [
      "C:\\Users\\shamr\\anaconda3\\lib\\site-packages\\sklearn\\ensemble\\_gb.py:668: DataConversionWarning: A column-vector y was passed when a 1d array was expected. Please change the shape of y to (n_samples, ), for example using ravel().\n",
      "  y = column_or_1d(y, warn=True)  # TODO: Is this still required?\n"
     ]
    },
    {
     "name": "stdout",
     "output_type": "stream",
     "text": [
      "Gradient Boosting:\n",
      "Mean Squared Erorr : 0.3264076455725697\n",
      "R^2 SCORE : 0.668461607363686\n",
      "\n"
     ]
    },
    {
     "name": "stderr",
     "output_type": "stream",
     "text": [
      "C:\\Users\\shamr\\anaconda3\\lib\\site-packages\\sklearn\\base.py:1473: DataConversionWarning: A column-vector y was passed when a 1d array was expected. Please change the shape of y to (n_samples,), for example using ravel().\n",
      "  return fit_method(estimator, *args, **kwargs)\n"
     ]
    },
    {
     "name": "stdout",
     "output_type": "stream",
     "text": [
      "Random Forest :\n",
      "Mean Squared Erorr : 0.2718601354324068\n",
      "R^2 SCORE : 0.7238665406717262\n",
      "\n",
      "Decision Tree:\n",
      "Mean Squared Erorr : 0.377135287671894\n",
      "R^2 SCORE : 0.6169365859618786\n",
      "\n",
      "XGB Tree:\n",
      "Mean Squared Erorr : 0.2651855795863622\n",
      "R^2 SCORE : 0.7306460127422325\n",
      "\n"
     ]
    },
    {
     "name": "stderr",
     "output_type": "stream",
     "text": [
      "C:\\Users\\shamr\\anaconda3\\lib\\site-packages\\sklearn\\ensemble\\_stacking.py:970: DataConversionWarning: A column-vector y was passed when a 1d array was expected. Please change the shape of y to (n_samples, ), for example using ravel().\n",
      "  y = column_or_1d(y, warn=True)\n",
      "C:\\Users\\shamr\\anaconda3\\lib\\site-packages\\sklearn\\linear_model\\_ridge.py:216: LinAlgWarning: Ill-conditioned matrix (rcond=3.80722e-21): result may not be accurate.\n",
      "  return linalg.solve(A, Xy, assume_a=\"pos\", overwrite_a=True).T\n",
      "C:\\Users\\shamr\\anaconda3\\lib\\site-packages\\sklearn\\ensemble\\_voting.py:694: DataConversionWarning: A column-vector y was passed when a 1d array was expected. Please change the shape of y to (n_samples, ), for example using ravel().\n",
      "  y = column_or_1d(y, warn=True)\n"
     ]
    },
    {
     "name": "stdout",
     "output_type": "stream",
     "text": [
      "stack_model:\n",
      "Mean Squared Erorr : 0.254602382713374\n",
      "R^2 SCORE : 0.7413955651127637\n",
      "\n",
      "vote_model:\n",
      "Mean Squared Erorr : 0.2847864603801554\n",
      "R^2 SCORE : 0.7107370289890151\n",
      "\n",
      "The Best Model is stack_model with r^2 score of 0.7413955651127637 and MSE of 0.254602382713374\n"
     ]
    }
   ],
   "source": [
    "# Define Models\n",
    "from sklearn.pipeline import Pipeline\n",
    "lr_model = Pipeline(steps=[ (\"model\", LinearRegression())])\n",
    "ada_model = Pipeline(steps=[ (\"Regressor\", AdaBoostRegressor())])\n",
    "gra_model = Pipeline(steps=[(\"Regressor\", GradientBoostingRegressor())])\n",
    "rf_model = Pipeline(steps=[(\"Regressor\", RandomForestRegressor())])\n",
    "dt_model = Pipeline(steps=[ (\"Regressor\", DecisionTreeRegressor())])\n",
    "xgb_model = Pipeline(steps=[ (\"Regressor\", XGBRegressor())])\n",
    "\n",
    "\n",
    "\n",
    "estimators = [('lr', lr_model),('rf', rf_model),('gd',gra_model),('ada', ada_model),('dt', dt_model),('xgb', xgb_model)]\n",
    "\n",
    "stack_model = StackingRegressor(estimators= estimators, final_estimator= Ridge())\n",
    "vote_model = VotingRegressor(estimators= estimators)\n",
    "\n",
    "\n",
    "# HyperParam Tuning\n",
    "param_grid = {'Regressor__n_estimators':[100,200],\n",
    "              'Regressor__learning_rate':[0.01,0.1],\n",
    "              'Regressor__max_depth':[3,4,5],\n",
    "              'Regressor__subsample':[0.8,0.9,1.0],\n",
    "             }\n",
    "\n",
    "\n",
    "from sklearn.model_selection import GridSearchCV\n",
    "grid_search = GridSearchCV(estimator=gra_model, param_grid=param_grid, cv=5,\n",
    "                          scoring='r2', n_jobs=-1, verbose=2)\n",
    "grid_search.fit(X_train, y_train)\n",
    "best_gb_model = grid_search.best_estimator_\n",
    "\n",
    "# Train and Evaluate models\n",
    "models = {\n",
    "    \"Linear Regression\": lr_model,\n",
    "    \"Adaboost Regressor\":  ada_model,\n",
    "    \"Gradient Boosting\" : gra_model,\n",
    "    \"Random Forest \": rf_model,\n",
    "    \"Decision Tree\": dt_model,\n",
    "    \"XGB Tree\": xgb_model,\n",
    "    \"stack_model\": stack_model,\n",
    "    \"vote_model\" : vote_model}\n",
    "\n",
    "results = {}\n",
    "\n",
    "for name, model in models.items():\n",
    "    model.fit(X_train, y_train)\n",
    "    y_pred = model.predict(X_test)\n",
    "    mse = mean_squared_error(y_test, y_pred)\n",
    "    r2 = r2_score(y_test, y_pred)\n",
    "    results[name] = (mse, r2)\n",
    "    print(f\"{name}:\")\n",
    "    print(f\"Mean Squared Erorr : {mse}\")\n",
    "    print(f\"R^2 SCORE : {r2}\")\n",
    "    print()\n",
    "\n",
    "# Comparing the models\n",
    "best_model_name = max(results, key=lambda k: results[k][1])\n",
    "best_mse, best_r2 = results[best_model_name]\n",
    "print(f\"The Best Model is {best_model_name} with r^2 score of {best_r2} and MSE of {best_mse}\")"
   ]
  },
  {
   "cell_type": "code",
   "execution_count": null,
   "id": "89abc048",
   "metadata": {},
   "outputs": [],
   "source": []
  },
  {
   "cell_type": "code",
   "execution_count": null,
   "id": "cccc7f30",
   "metadata": {},
   "outputs": [],
   "source": []
  },
  {
   "cell_type": "code",
   "execution_count": null,
   "id": "b499100a",
   "metadata": {},
   "outputs": [],
   "source": []
  },
  {
   "cell_type": "code",
   "execution_count": null,
   "id": "15758407",
   "metadata": {},
   "outputs": [],
   "source": []
  }
 ],
 "metadata": {
  "kernelspec": {
   "display_name": "Python 3 (ipykernel)",
   "language": "python",
   "name": "python3"
  },
  "language_info": {
   "codemirror_mode": {
    "name": "ipython",
    "version": 3
   },
   "file_extension": ".py",
   "mimetype": "text/x-python",
   "name": "python",
   "nbconvert_exporter": "python",
   "pygments_lexer": "ipython3",
   "version": "3.10.9"
  }
 },
 "nbformat": 4,
 "nbformat_minor": 5
}
